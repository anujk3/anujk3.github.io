{
 "cells": [
  {
   "cell_type": "markdown",
   "metadata": {},
   "source": [
    "### Predict if a mail is spam or not "
   ]
  },
  {
   "cell_type": "markdown",
   "metadata": {},
   "source": [
    "**Data Description:** \n",
    "    \n",
    "Refer: https://archive.ics.uci.edu/ml/datasets/spambase for detailed data description\n",
    "\n",
    "* Number of Observations: 4601 (1813 Spam = 39.4%)\n",
    "* Number of Attributes: 58 (57 continuous, 1 nominal class label)\n",
    "\n",
    "** Attributes **\n",
    "\n",
    "* 48 continuous real [0,100] attributes of type word_freq_WORD = percentage of words in the e-mail that match WORD, i.e. 100 * (number of times the WORD appears in the e-mail) / total number of words in e-mail. A \"word\" in this case is any string of alphanumeric characters bounded by non-alphanumeric characters or end-of-string. \n",
    "\n",
    "* 6 continuous real [0,100] attributes of type char_freq_CHAR] = percentage of characters in the e-mail that match CHAR, i.e. 100 * (number of CHAR occurences) / total characters in e-mail \n",
    "\n",
    "* 1 continuous real [1,...] attribute of type capital_run_length_average  = average length of uninterrupted sequences of capital letters \n",
    "\n",
    "* 1 continuous integer [1,...] attribute of type capital_run_length_longest = length of longest uninterrupted sequence of capital letters \n",
    "\n",
    "* 1 continuous integer [1,...] attribute of type capital_run_length_total  = sum of length of uninterrupted sequences of capital letters = total number of capital letters in the e-mail \n",
    "\n",
    "* 1 nominal {0,1} class attribute of type spam = denotes whether the e-mail was considered spam (1) or not (0), i.e. unsolicited commercial e-mail. \n",
    "\n"
   ]
  },
  {
   "cell_type": "markdown",
   "metadata": {},
   "source": [
    "** Logistic Regression **\n",
    "\n",
    "Logistic regression is a discriminative classifier where Log odds is modelled as a linear function i.e.\n",
    "\n",
    "\\begin{equation}\n",
    "ln \\left( \\frac{p\\left( y = +1|x \\right)}{p \\left(y=-1|x \\right)} \\right) = x^{T}w + w_0\n",
    "\\end{equation}\n",
    "\n",
    "Hence we get,\n",
    "\n",
    "\\begin{equation}\n",
    "p \\left( y = +1|x \\right) = \\frac{e^{x^Tw + w_0}}{1 + e^{x^Tw + w_0}} = \\sigma (x_i^T w)\n",
    "\\end{equation}\n",
    "\n",
    "The log likelihood function i.e.\n",
    "\n",
    "\\begin{equation}\n",
    "\\sum_{i=1}^{n} ln \\left(\\sigma_{i} \\left(y_i . w \\right) \\right)\n",
    "\\end{equation}\n",
    "\n",
    "is maximized over w using two different optimization algorithms:\n",
    "\n",
    "1. Steepest Ascent\n",
    "2. Newton's Method\n",
    "\n",
    "\\begin{equation}\n",
    "w_{ML} = arg\\ \\underset{w}{max} \\sum_{i=1}^{n} ln \\left(\\sigma_{i} \\left(y_i . w \\right) \\right)\n",
    "\\end{equation}\n"
   ]
  },
  {
   "cell_type": "markdown",
   "metadata": {},
   "source": [
    "** Data used for this implementation is available at [Github Link](https://github.com/anujk3/ml_datasets/tree/master/ml-logistic)**"
   ]
  },
  {
   "cell_type": "markdown",
   "metadata": {},
   "source": [
    "### Python Implementation"
   ]
  },
  {
   "cell_type": "code",
   "execution_count": 1,
   "metadata": {
    "collapsed": true
   },
   "outputs": [],
   "source": [
    "import numpy as np\n",
    "import matplotlib.pyplot as plt\n",
    "import operator\n",
    "#import scipy\n",
    "from scipy.special import expit\n",
    "import warnings\n",
    "warnings.filterwarnings('ignore')\n",
    "%matplotlib inline\n",
    "\n",
    "X_train = np.genfromtxt('hw2-data/X_train.csv', delimiter=',')\n",
    "y_train = np.genfromtxt('hw2-data/y_train.csv')\n",
    "\n",
    "X_test = np.genfromtxt('hw2-data/X_test.csv', delimiter=',')\n",
    "y_test = np.genfromtxt('hw2-data/y_test.csv')\n",
    "\n",
    "def append_column_one(data):    \n",
    "    append_ones = np.ones((data.shape[0],1))\n",
    "    data = np.hstack((append_ones, data))\n",
    "    return data\n",
    "\n",
    "X_train = append_column_one(X_train)\n",
    "X_test = append_column_one(X_test)\n",
    "np.place(y_train, y_train == 0, -1)\n",
    "np.place(y_test, y_test == 0, -1)"
   ]
  },
  {
   "cell_type": "code",
   "execution_count": 2,
   "metadata": {
    "collapsed": true
   },
   "outputs": [],
   "source": [
    "def calculate_sigmoid(x):\n",
    "    return expit(x)"
   ]
  },
  {
   "cell_type": "code",
   "execution_count": 3,
   "metadata": {
    "collapsed": true
   },
   "outputs": [],
   "source": [
    "def calculate_update(X_train, y_train, weights, sigmoid_iter):\n",
    "    update = np.zeros(len(weights))\n",
    "    for i in range(0, X_train.shape[0]):\n",
    "        update += y_train[i] * (1 - sigmoid_iter[i]) * X_train[i]\n",
    "    return update"
   ]
  },
  {
   "cell_type": "code",
   "execution_count": 4,
   "metadata": {
    "collapsed": true
   },
   "outputs": [],
   "source": [
    "def calculate_objectiveFunc(X_train, y_train, weights):\n",
    "    output = 0\n",
    "    sigmoid_iter = []\n",
    "    for i in range(0, X_train.shape[0]):\n",
    "        sigmoid_value = calculate_sigmoid(y_train[i] * np.dot(X_train[i], weights))\n",
    "        sigmoid_iter.append(sigmoid_value)\n",
    "        output += np.log(sigmoid_value)\n",
    "    return output, sigmoid_iter"
   ]
  },
  {
   "cell_type": "code",
   "execution_count": 5,
   "metadata": {
    "collapsed": true,
    "scrolled": true
   },
   "outputs": [],
   "source": [
    "objective_value = []\n",
    "w = np.zeros(X_train.shape[1])\n",
    "for t in range(1, 10001):\n",
    "    #print \"Iteration \", t\n",
    "    learning_rate = 1.0 / (np.power(10, 5)*np.sqrt(t + 1))\n",
    "    iter_objectiveVal, sigmoid_iter = calculate_objectiveFunc(X_train, y_train, w)\n",
    "    objective_value.append(iter_objectiveVal)\n",
    "    #print iter_objectiveVal\n",
    "    w = w + (learning_rate * calculate_update(X_train, y_train, w, sigmoid_iter))"
   ]
  },
  {
   "cell_type": "markdown",
   "metadata": {},
   "source": [
    "### Logistic Regression objective training function L per iteration for t = 1, 2, ..., 10000"
   ]
  },
  {
   "cell_type": "code",
   "execution_count": 6,
   "metadata": {},
   "outputs": [
    {
     "data": {
      "image/png": "[encoded data removed]",
      "text/plain": [
       "<matplotlib.figure.Figure at 0x119798630>"
      ]
     },
     "metadata": {},
     "output_type": "display_data"
    }
   ],
   "source": [
    "plt.figure(figsize=(9, 6))\n",
    "plt.plot(objective_value)\n",
    "plt.xlabel(\"Iterations\")\n",
    "plt.ylabel(\"Objective Training Function\")\n",
    "plt.title(\"Logistic Regression objective training function L per iteration for t = 1, 2, ..., 10000\")\n",
    "plt.show()"
   ]
  },
  {
   "cell_type": "markdown",
   "metadata": {},
   "source": [
    "---"
   ]
  },
  {
   "cell_type": "markdown",
   "metadata": {},
   "source": [
    "## Logistic Regression : Newton's Method (Optimization)"
   ]
  },
  {
   "cell_type": "code",
   "execution_count": 16,
   "metadata": {
    "collapsed": true
   },
   "outputs": [],
   "source": [
    "import numpy as np\n",
    "import matplotlib.pyplot as plt\n",
    "import operator\n",
    "#import scipy\n",
    "from scipy.special import expit\n",
    "%matplotlib inline\n",
    "\n",
    "X_train = np.genfromtxt('hw2-data/X_train.csv', delimiter=',')\n",
    "y_train = np.genfromtxt('hw2-data/y_train.csv')\n",
    "\n",
    "X_test = np.genfromtxt('hw2-data/X_test.csv', delimiter=',')\n",
    "y_test = np.genfromtxt('hw2-data/y_test.csv')\n",
    "\n",
    "def append_column_one(data):    \n",
    "    append_ones = np.ones((data.shape[0],1))\n",
    "    data = np.hstack((append_ones, data))\n",
    "    return data\n",
    "\n",
    "X_train = append_column_one(X_train)\n",
    "#print X_train.shape\n",
    "X_test = append_column_one(X_test)\n",
    "np.place(y_train, y_train == 0, -1)\n",
    "np.place(y_test, y_test == 0, -1)"
   ]
  },
  {
   "cell_type": "code",
   "execution_count": 17,
   "metadata": {
    "collapsed": true
   },
   "outputs": [],
   "source": [
    "def calculate_deltaupdate(X_train, y_train, weights):\n",
    "    update = np.zeros(len(weights))\n",
    "    for i in range(0, X_train.shape[0]):\n",
    "        update = update + y_train[i] * (1 - calculate_sigmoid(y_train[i] * np.dot(X_train[i], weights))) * X_train[i]\n",
    "    return update"
   ]
  },
  {
   "cell_type": "code",
   "execution_count": 18,
   "metadata": {
    "collapsed": true
   },
   "outputs": [],
   "source": [
    "def calc_squareinvupdate(X_train, y_train, weights):\n",
    "    output_matrix = np.zeros((len(weights), len(weights)))\n",
    "    for i in range(0, X_train.shape[0]):\n",
    "        sig_value =  calculate_sigmoid(np.dot(X_train[i], weights))\n",
    "        output_matrix += sig_value * (1 - sig_value) * np.outer(X_train[i], X_train[i])\n",
    "    return np.linalg.inv(-output_matrix)"
   ]
  },
  {
   "cell_type": "code",
   "execution_count": 19,
   "metadata": {
    "collapsed": true
   },
   "outputs": [],
   "source": [
    "def calculate_objectiveFunc(X_train, y_train, weights):\n",
    "    output = 0\n",
    "    for i in range(0, X_train.shape[0]):\n",
    "        output += np.log(calculate_sigmoid(y_train[i] * np.dot(X_train[i], weights)))\n",
    "    return output"
   ]
  },
  {
   "cell_type": "code",
   "execution_count": 20,
   "metadata": {
    "collapsed": true,
    "scrolled": true
   },
   "outputs": [],
   "source": [
    "objective_value = []\n",
    "w = np.zeros(X_train.shape[1])\n",
    "#print len(w)\n",
    "for t in range(1, 101):\n",
    "    #print \"Iteration \", t\n",
    "    learning_rate = 1.0/(np.sqrt(t + 1))\n",
    "    #print \"Objective function value \", calculate_objectiveFunc(X_train, y_train, w)\n",
    "    objective_value.append(calculate_objectiveFunc(X_train, y_train, w))\n",
    "    w = w - (learning_rate * np.dot(calc_squareinvupdate(X_train, y_train, w), \n",
    "                                    calculate_deltaupdate(X_train, y_train, w)))"
   ]
  },
  {
   "cell_type": "markdown",
   "metadata": {},
   "source": [
    "### Objective Function L on training data as a function of t = 1, 2, ... , 100"
   ]
  },
  {
   "cell_type": "code",
   "execution_count": 21,
   "metadata": {},
   "outputs": [
    {
     "data": {
      "image/png": "[encoded data removed]",
      "text/plain": [
       "<matplotlib.figure.Figure at 0x11a08bb38>"
      ]
     },
     "metadata": {},
     "output_type": "display_data"
    }
   ],
   "source": [
    "plt.figure(figsize=(9, 6))\n",
    "plt.plot(objective_value)\n",
    "plt.xlabel(\"Iterations\")\n",
    "plt.ylabel(\"Objective Training Function\")\n",
    "plt.title(\"Objective Function L on training data as a function of t = 1, 2, ... , 100\")\n",
    "plt.show()"
   ]
  },
  {
   "cell_type": "code",
   "execution_count": 22,
   "metadata": {
    "collapsed": true
   },
   "outputs": [],
   "source": [
    "def predict_test_data(X_test, weights):\n",
    "    predicted_test = []\n",
    "    for i in range(0, len(X_test)):\n",
    "        output = calculate_sigmoid(np.dot(X_test[i], weights))\n",
    "        if output > 0.5:\n",
    "            predicted_test.append(1)\n",
    "        else:\n",
    "            predicted_test.append(-1)\n",
    "    return predicted_test"
   ]
  },
  {
   "cell_type": "code",
   "execution_count": 23,
   "metadata": {
    "collapsed": true
   },
   "outputs": [],
   "source": [
    "predictions = predict_test_data(X_test, w)"
   ]
  },
  {
   "cell_type": "code",
   "execution_count": 29,
   "metadata": {
    "collapsed": true
   },
   "outputs": [],
   "source": [
    "def prediction_accuracy(predicted_labels, original_labels):\n",
    "    count = 0\n",
    "    for i in range(len(predicted_labels)):\n",
    "        if predicted_labels[i] == original_labels[i]:\n",
    "            count += 1\n",
    "    #print count, len(predicted_labels)\n",
    "    return float(count)/len(predicted_labels)"
   ]
  },
  {
   "cell_type": "code",
   "execution_count": 30,
   "metadata": {},
   "outputs": [
    {
     "name": "stdout",
     "output_type": "stream",
     "text": [
      "Prediction accuracy is 0.9139784946236559\n"
     ]
    }
   ],
   "source": [
    "print(\"Prediction accuracy is {}\".format(prediction_accuracy(y_test, predictions)))"
   ]
  },
  {
   "cell_type": "markdown",
   "metadata": {
    "collapsed": true
   },
   "source": [
    "### Prediction Accuracy on testing data is 0.91397 or 91.397% \n",
    "---"
   ]
  }
 ],
 "metadata": {
  "kernelspec": {
   "display_name": "Python 3",
   "language": "python",
   "name": "python3"
  },
  "language_info": {
   "codemirror_mode": {
    "name": "ipython",
    "version": 3
   },
   "file_extension": ".py",
   "mimetype": "text/x-python",
   "name": "python",
   "nbconvert_exporter": "python",
   "pygments_lexer": "ipython3",
   "version": "3.6.2"
  }
 },
 "nbformat": 4,
 "nbformat_minor": 2
}
