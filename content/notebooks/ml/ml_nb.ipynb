{
 "cells": [
  {
   "cell_type": "markdown",
   "metadata": {},
   "source": [
    "### Predict if a mail is spam or not "
   ]
  },
  {
   "cell_type": "markdown",
   "metadata": {},
   "source": [
    "**Data Description:** \n",
    "    \n",
    "Refer: https://archive.ics.uci.edu/ml/datasets/spambase for detailed data description\n",
    "\n",
    "* Number of Observations: 4601 (1813 Spam = 39.4%)\n",
    "* Number of Attributes: 58 (57 continuous, 1 nominal class label)\n",
    "\n",
    "** Attributes **\n",
    "\n",
    "* 48 continuous real [0,100] attributes of type word_freq_WORD = percentage of words in the e-mail that match WORD, i.e. 100 * (number of times the WORD appears in the e-mail) / total number of words in e-mail. A \"word\" in this case is any string of alphanumeric characters bounded by non-alphanumeric characters or end-of-string. \n",
    "\n",
    "* 6 continuous real [0,100] attributes of type char_freq_CHAR] = percentage of characters in the e-mail that match CHAR, i.e. 100 * (number of CHAR occurences) / total characters in e-mail \n",
    "\n",
    "* 1 continuous real [1,...] attribute of type capital_run_length_average  = average length of uninterrupted sequences of capital letters \n",
    "\n",
    "* 1 continuous integer [1,...] attribute of type capital_run_length_longest = length of longest uninterrupted sequence of capital letters \n",
    "\n",
    "* 1 continuous integer [1,...] attribute of type capital_run_length_total  = sum of length of uninterrupted sequences of capital letters = total number of capital letters in the e-mail \n",
    "\n",
    "* 1 nominal {0,1} class attribute of type spam = denotes whether the e-mail was considered spam (1) or not (0), i.e. unsolicited commercial e-mail. "
   ]
  },
  {
   "cell_type": "markdown",
   "metadata": {},
   "source": [
    "### Naive Bayes Classifier\n",
    "\n",
    "Under the iid assumption, the optimum classifier is:\n",
    "\n",
    "\\begin{equation}\n",
    "f(x) = arg\\ \\underset{y \\in Y}{max}\\ P \\left(Y = y\\ |\\ X = x\\right)\n",
    "\\end{equation}\n",
    "\n",
    "Applying Bayes Rule we split the posterior into class prior and class conditional distribution of X\n",
    "\n",
    "\\begin{equation}\n",
    "f(x) = arg\\ \\underset{y \\in Y}{max}\\ P \\left(Y = y\\right) \\times P\\left(X = x\\ |\\ Y = y\\right)\n",
    "\\end{equation}\n",
    "\n",
    "Naive Bayes classifier treats the dimensions of X as conditionally independent given y, hence we get:\n",
    "\n",
    "\\begin{equation}\n",
    "f(x) = arg\\ \\underset{y \\in Y}{max}\\ P \\left(Y = y\\right) \\times \\prod^{d}_{j=1} p_j \\left(x[j]|Y=y \\right)\n",
    "\\end{equation}"
   ]
  },
  {
   "cell_type": "markdown",
   "metadata": {},
   "source": [
    "** Data used for this implementation is available at [Github Link](https://github.com/anujk3/ml_datasets/tree/master/ml-nb)**"
   ]
  },
  {
   "cell_type": "markdown",
   "metadata": {},
   "source": [
    "### Implementation"
   ]
  },
  {
   "cell_type": "code",
   "execution_count": 2,
   "metadata": {
    "collapsed": true
   },
   "outputs": [],
   "source": [
    "## Imports and Loading Data\n",
    "\n",
    "import numpy as np\n",
    "import matplotlib.pyplot as plt\n",
    "import operator\n",
    "#import scipy\n",
    "from scipy.special import expit\n",
    "%matplotlib inline\n",
    "\n",
    "\n",
    "X_train = np.genfromtxt('hw2-data/X_train.csv', delimiter=',')\n",
    "y_train = np.genfromtxt('hw2-data/y_train.csv')\n",
    "\n",
    "X_test = np.genfromtxt('hw2-data/X_test.csv', delimiter=',')\n",
    "y_test = np.genfromtxt('hw2-data/y_test.csv')"
   ]
  },
  {
   "cell_type": "code",
   "execution_count": 3,
   "metadata": {
    "collapsed": true
   },
   "outputs": [],
   "source": [
    "def get_prior(y_train):\n",
    "    train_inputs = y_train\n",
    "    unique_labels, counts = np.unique(train_inputs, return_counts=True)\n",
    "    output = {}\n",
    "    for i, label in enumerate(unique_labels):\n",
    "        output[int(label)] = float(counts[i])/len(train_inputs)\n",
    "    return output        "
   ]
  },
  {
   "cell_type": "code",
   "execution_count": 4,
   "metadata": {
    "collapsed": true
   },
   "outputs": [],
   "source": [
    "def bernoulli_MLE(feature_col, y_train):\n",
    "    possible_labels = np.unique(y_train)\n",
    "    output = []\n",
    "    for label in possible_labels:\n",
    "        if int(label) == 0:\n",
    "            output.append(float(np.sum(feature_col) - np.sum(feature_col*y_train)) / (len(y_train) - np.sum(y_train)))\n",
    "        else:\n",
    "            output.append(float(np.sum(feature_col*y_train)) / np.sum(y_train))\n",
    "    return output"
   ]
  },
  {
   "cell_type": "code",
   "execution_count": 5,
   "metadata": {
    "collapsed": true
   },
   "outputs": [],
   "source": [
    "def pareto_MLE(feature_col, y_train):\n",
    "    possible_labels = np.unique(y_train)\n",
    "    output = []\n",
    "    for label in possible_labels:\n",
    "        if int(label) == 0:\n",
    "            output.append(float(len(y_train) - np.sum(y_train)) / np.sum((1-y_train)*np.log(feature_col)))\n",
    "        else:\n",
    "            output.append(float(np.sum(y_train)) / np.sum(np.log(feature_col)*y_train))\n",
    "    return output"
   ]
  },
  {
   "cell_type": "code",
   "execution_count": 6,
   "metadata": {
    "collapsed": true
   },
   "outputs": [],
   "source": [
    "def get_MLE_features(X_train, y_train):\n",
    "    MLE_vector = []\n",
    "    for feature_col in xrange(0, X_train.shape[1]):\n",
    "        if feature_col < 54:\n",
    "            MLE_vector.append(bernoulli_MLE(X_train[:, feature_col], y_train))\n",
    "        else:\n",
    "            MLE_vector.append(pareto_MLE(X_train[:, feature_col], y_train))\n",
    "    return MLE_vector"
   ]
  },
  {
   "cell_type": "code",
   "execution_count": 7,
   "metadata": {
    "collapsed": true
   },
   "outputs": [],
   "source": [
    "def getBernoulliDist(MLE_vector, feature_val, label):\n",
    "    return np.power(MLE_vector[label], feature_val) * np.power((1 - MLE_vector[label]), (1 - feature_val))"
   ]
  },
  {
   "cell_type": "code",
   "execution_count": 8,
   "metadata": {
    "collapsed": true
   },
   "outputs": [],
   "source": [
    "def getParetoDist(MLE_vector, feature_val, label):\n",
    "    return MLE_vector[label] * np.power(feature_val, -(MLE_vector[label] + 1))"
   ]
  },
  {
   "cell_type": "code",
   "execution_count": 9,
   "metadata": {
    "collapsed": true
   },
   "outputs": [],
   "source": [
    "def BayesClassifier(X_train, y_train, X_test, y_test):\n",
    "    MLE_vector = get_MLE_features(X_train, y_train)\n",
    "    priors = get_prior(y_train)\n",
    "    possible_labels = np.unique(y_train)\n",
    "    predicted_outputs = []\n",
    "    for i, x_test_vector in enumerate(X_test):\n",
    "        output_vector = []\n",
    "        for label in possible_labels:\n",
    "            label = int(label)\n",
    "            output = 1\n",
    "            for i, feature_val in enumerate(x_test_vector):\n",
    "                if i < 54:\n",
    "                    output = output * getBernoulliDist(MLE_vector[i], feature_val, label)\n",
    "                else:\n",
    "                    output = output * getParetoDist(MLE_vector[i], feature_val, label)\n",
    "            output = output * priors[label]\n",
    "            output_vector.append(output)\n",
    "        predicted_outputs.append(output_vector)\n",
    "    return predicted_outputs"
   ]
  },
  {
   "cell_type": "code",
   "execution_count": 10,
   "metadata": {
    "collapsed": true
   },
   "outputs": [],
   "source": [
    "def show_confusion_matrix(tp, fp, tn, fn ,class_labels=['0','1']):\n",
    "\n",
    "    fig = plt.figure(figsize=(6, 4))\n",
    "    ax  = fig.add_subplot(111)\n",
    "\n",
    "    # Draw the grid boxes\n",
    "    ax.set_xlim(-0.5,1.5)\n",
    "    ax.set_ylim(1.5,-0.5)\n",
    "    \n",
    "    ax.plot([-0.5,1.5],[0.5,0.5], '-k', lw=2)\n",
    "    ax.plot([-0.5,1.5],[1.5,1.5], '-k', lw=2)\n",
    "    ax.plot([0.5,0.5],[-0.5,1.5], '-k', lw=2)\n",
    "    ax.plot([1.5,1.5],[-0.5,1.5], '-k', lw=2)\n",
    "\n",
    "    # Set xlabels\n",
    "    ax.set_xlabel('Predicted Label', fontsize=16)\n",
    "    ax.set_xticks([0,1])\n",
    "    ax.set_xticklabels(class_labels + [''])\n",
    "    ax.xaxis.set_label_position('top')\n",
    "    ax.xaxis.tick_top()\n",
    "    # These coordinate might require some tinkering. Ditto for y, below.\n",
    "    ax.xaxis.set_label_coords(0.5,1.16)\n",
    "\n",
    "    # Set ylabels\n",
    "    ax.set_ylabel('True Label', fontsize=16, rotation=90)\n",
    "    ax.set_yticklabels(class_labels + [''],rotation=90)\n",
    "    ax.set_yticks([0,1])\n",
    "    ax.yaxis.set_label_coords(-0.09,0.45)\n",
    "\n",
    "\n",
    "#     Fill in initial metrics: tp, tn, etc...\n",
    "    ax.text(0,0,'True Negative: %d'%(tn),va='center',ha='center',bbox=dict(fc='w',boxstyle='round,pad=1'))\n",
    "    ax.text(0,1,'False Negative: %d'%fn,va='center',ha='center',bbox=dict(fc='w',boxstyle='round,pad=1'))\n",
    "    ax.text(1,0,'False Positive: %d'%fp,va='center',ha='center',bbox=dict(fc='w',boxstyle='round,pad=1'))\n",
    "    ax.text(1,1,'True Positive: %d'%(tp),va='center',ha='center',bbox=dict(fc='w',boxstyle='round,pad=1'))\n",
    "    \n",
    "    ax.text(2, 0.5, r'Prediction Accuracy = (54 + 32)/93 = 0.9247 or 92.47%', fontsize=15)\n",
    "    plt.tight_layout()\n",
    "    plt.show()"
   ]
  },
  {
   "cell_type": "code",
   "execution_count": 11,
   "metadata": {
    "collapsed": true
   },
   "outputs": [],
   "source": [
    "def prediction_accuracy_Bayes(predicted_values, y_test):    \n",
    "    predicted_classes = []\n",
    "    for a, b in predicted_values:\n",
    "        if a > b:\n",
    "            predicted_classes.append(0)\n",
    "        else:\n",
    "            predicted_classes.append(1)\n",
    "    total = 0\n",
    "    tp = 0\n",
    "    fp = 0\n",
    "    tn = 0\n",
    "    fn = 0\n",
    "    for i in xrange(len(predicted_classes)):\n",
    "        if predicted_classes[i] == y_test[i]:\n",
    "            total += 1\n",
    "        if (predicted_classes[i] == 0) and (y_test[i] == 0):\n",
    "            tn += 1\n",
    "        if (predicted_classes[i] == 0) and (y_test[i] == 1):\n",
    "            fn += 1\n",
    "        if (predicted_classes[i] == 1) and (y_test[i] == 0):\n",
    "            fp += 1\n",
    "        if (predicted_classes[i] == 1) and (y_test[i] == 1):\n",
    "            tp += 1\n",
    "    \n",
    "    return float(total)/len(predicted_classes), tp, fp, tn, fn"
   ]
  },
  {
   "cell_type": "code",
   "execution_count": 12,
   "metadata": {
    "collapsed": true
   },
   "outputs": [],
   "source": [
    "predicted_values = BayesClassifier(X_train, y_train, X_test, y_test)"
   ]
  },
  {
   "cell_type": "code",
   "execution_count": 1,
   "metadata": {},
   "outputs": [],
   "source": [
    "#predicted_values"
   ]
  },
  {
   "cell_type": "code",
   "execution_count": 50,
   "metadata": {
    "collapsed": true
   },
   "outputs": [],
   "source": [
    "accuracy, tp, fp, tn, fn = prediction_accuracy_Bayes(predicted_values, y_test)\n",
    "#print accuracy\n",
    "#print tp, fp, tn, fn"
   ]
  },
  {
   "cell_type": "markdown",
   "metadata": {},
   "source": [
    "### Output Confusion Matrix"
   ]
  },
  {
   "cell_type": "code",
   "execution_count": 51,
   "metadata": {},
   "outputs": [
    {
     "data": {
      "image/png": "[encoded data removed]",
      "text/plain": [
       "<matplotlib.figure.Figure at 0x10b982610>"
      ]
     },
     "metadata": {},
     "output_type": "display_data"
    }
   ],
   "source": [
    "show_confusion_matrix(tp, fp, tn, fn)"
   ]
  },
  {
   "cell_type": "markdown",
   "metadata": {},
   "source": [
    "---"
   ]
  },
  {
   "cell_type": "markdown",
   "metadata": {},
   "source": [
    "## b) Stem Plot in Matplotlib"
   ]
  },
  {
   "cell_type": "code",
   "execution_count": 52,
   "metadata": {
    "collapsed": true
   },
   "outputs": [],
   "source": [
    "MLE_parameters = get_MLE_features(X_train, y_train)\n",
    "bernoulli_MLE_parameters = MLE_parameters[0:54]\n",
    "class_zero, class_one = zip(*bernoulli_MLE_parameters)"
   ]
  },
  {
   "cell_type": "code",
   "execution_count": 53,
   "metadata": {},
   "outputs": [
    {
     "data": {
      "image/png": "[encoded data removed]",
      "text/plain": [
       "<matplotlib.figure.Figure at 0x10b740510>"
      ]
     },
     "metadata": {},
     "output_type": "display_data"
    }
   ],
   "source": [
    "plt.close('all')\n",
    "f, (ax1) = plt.subplots(1, 1, figsize=(15, 6))\n",
    "markerline, stemlines, baseline = ax1.stem(range(1, 55), class_zero, '-.')\n",
    "plt.setp(baseline, 'color', 'g', 'linewidth', 2)\n",
    "plt.setp(markerline, 'markerfacecolor', 'r')\n",
    "plt.setp(stemlines, 'color', 'r')\n",
    "ax1.set_xlabel(\"Dimensions\")\n",
    "ax1.set_ylabel(\"Bernoulli Parameters\")\n",
    "markerline, stemlines, baseline = ax1.stem(range(1, 55), class_one, '-')\n",
    "plt.setp(baseline, 'color', 'g', 'linewidth', 2)\n",
    "plt.setp(markerline, 'markerfacecolor', 'y')\n",
    "plt.setp(stemlines, 'color', 'y','alpha', 0.5)\n",
    "plt.legend([\"Class 0\", \"Class 1\"], loc='best', numpoints=2)\n",
    "plt.title(\"Plot for Bernoulli Parameters when y = 0 (Red) and y = 1 (Yellow)\")\n",
    "plt.show()"
   ]
  },
  {
   "cell_type": "markdown",
   "metadata": {},
   "source": [
    "## Use the file spambase.names to make an observation about dimensions 16 and 52"
   ]
  },
  {
   "cell_type": "markdown",
   "metadata": {
    "collapsed": true
   },
   "source": [
    "** The dimension 16 is the word frequency for \"Free\". For Class 0, the MLE estimate is 0.0911 as compard to for Class 1, the MLE estimate is 0.545. So, we can say that for Class 0 (not a spam mail) the likelihood of seeing the word free is 0.091 as compared to Class 1 (spam mail) where it is 0.545.**\n",
    "\n",
    "** The dimension 52 is the char frequency for \"!\". For Class 0, the MLE estimate is 0.269 as compard to for Class 1, the MLE estimate is 0.833. So, we can say that for Class 0 (not a spam mail) the likelihood of seeing the word free is 0.269 as compared to Class 1 (spam mail) where it is 0.833.**\n",
    "\n",
    "### Since the Bernoulli parameters are just the average number of documents that have X = x (\"free\" or \"!\") when y = 1 (or 0), we can say that given a spam mail, there is a higher probability for the occurrence of \"!\" and \"free\" as compared to a non-spam mail."
   ]
  },
  {
   "cell_type": "markdown",
   "metadata": {},
   "source": [
    "---"
   ]
  }
 ],
 "metadata": {
  "kernelspec": {
   "display_name": "Python 3",
   "language": "python",
   "name": "python3"
  },
  "language_info": {
   "codemirror_mode": {
    "name": "ipython",
    "version": 3
   },
   "file_extension": ".py",
   "mimetype": "text/x-python",
   "name": "python",
   "nbconvert_exporter": "python",
   "pygments_lexer": "ipython3",
   "version": "3.6.2"
  }
 },
 "nbformat": 4,
 "nbformat_minor": 2
}
