{
 "cells": [
  {
   "cell_type": "markdown",
   "metadata": {},
   "source": [
    "# In Class Kaggle Classification Problem : Marketing Campaign Evaluation"
   ]
  },
  {
   "cell_type": "markdown",
   "metadata": {},
   "source": [
    "**The data is related with direct marketing campaigns of a Portuguese banking institution. The marketing campaigns were based on phone calls. Often, more than one contact to the same client was required, in order to access if the product (bank term deposit) would be ('yes') or not ('no') subscribed.**"
   ]
  },
  {
   "cell_type": "markdown",
   "metadata": {},
   "source": [
    "**Dataset can be downloaded at [Github Link](https://github.com/anujk3/ml_datasets/tree/master/aml-kaggle)**\n",
    "\n",
    "\n",
    "**Data Description** \n",
    "\n",
    "*Bank client data*\n",
    "\n",
    "1 - age (numeric)<br>\n",
    "2 - job : type of job (categorical: 'admin.','blue-collar','entrepreneur','housemaid','management','retired','self-employed','services','student','technician','unemployed','unknown') <br>\n",
    "3 - marital : marital status (categorical: 'divorced','married','single','unknown'; note: 'divorced' means divorced or widowed) <br>\n",
    "4 - education (categorical:'basic.4y','basic.6y','basic.9y','high.school','illiterate','professional.course','university.degree','unknown') <br>\n",
    "5 - default: has credit in default? (categorical: 'no','yes','unknown') <br>\n",
    "6 - housing: has housing loan? (categorical: 'no','yes','unknown') <br>\n",
    "7 - loan: has personal loan? (categorical: 'no','yes','unknown') <br>\n",
    "\n",
    "*Related with the last contact of the current campaign*\n",
    "\n",
    "8 - contact: contact communication type (categorical: 'cellular','telephone') <br>\n",
    "9 - month: last contact month of year (categorical: 'jan', 'feb', 'mar', ..., 'nov', 'dec') <br>\n",
    "10 - day_of_week: last contact day of the week (categorical: 'mon','tue','wed','thu','fri') <br>\n",
    "11 - duration: last contact duration, in seconds (numeric). Important note: this attribute highly affects the output target (e.g., if duration=0 then y='no'). Yet, the duration is not known before a call is performed. Also, after the end of the call y is obviously known. Thus, this input should only be included for benchmark purposes and should be discarded if the intention is to have a realistic predictive model.\n",
    "\n",
    "*Other attributes*\n",
    "\n",
    "12 - campaign: number of contacts performed during this campaign and for this client (numeric, includes last contact)<br>\n",
    "13 - pdays: number of days that passed by after the client was last contacted from a previous campaign (numeric; 999 means client was not previously contacted) <br>\n",
    "14 - previous: number of contacts performed before this campaign and for this client (numeric) <br>\n",
    "15 - poutcome: outcome of the previous marketing campaign (categorical: 'failure','nonexistent','success')\n",
    "\n",
    "*Social and Economic context attributes*\n",
    "\n",
    "16 - emp.var.rate: employment variation rate - quarterly indicator (numeric) <br>\n",
    "17 - cons.price.idx: consumer price index - monthly indicator (numeric) <br>\n",
    "18 - cons.conf.idx: consumer confidence index - monthly indicator (numeric) <br>\n",
    "19 - euribor3m: euribor 3 month rate - daily indicator (numeric) <br>\n",
    "20 - nr.employed: number of employees - quarterly indicator (numeric)"
   ]
  },
  {
   "cell_type": "markdown",
   "metadata": {},
   "source": [
    "## Import Libraries, Load Data"
   ]
  },
  {
   "cell_type": "code",
   "execution_count": 1,
   "metadata": {
    "collapsed": true
   },
   "outputs": [],
   "source": [
    "#write code below, you can make multiple cells\n",
    "import pandas as pd\n",
    "import numpy as np \n",
    "from sklearn.linear_model import LogisticRegressionCV, LogisticRegression\n",
    "from sklearn.svm import LinearSVC\n",
    "from sklearn.neighbors import KNeighborsClassifier, NearestCentroid\n",
    "from sklearn.model_selection import cross_val_score\n",
    "from sklearn.feature_selection import f_regression, f_classif\n",
    "from sklearn.model_selection import GridSearchCV, StratifiedKFold, StratifiedShuffleSplit\n",
    "from sklearn.naive_bayes import MultinomialNB, BernoulliNB, GaussianNB\n",
    "from sklearn.linear_model import SGDClassifier, LassoCV\n",
    "from sklearn.svm import LinearSVC\n",
    "from sklearn.ensemble import RandomForestClassifier, GradientBoostingClassifier, VotingClassifier\n",
    "from sklearn.tree import DecisionTreeClassifier\n",
    "from sklearn.feature_selection import mutual_info_classif\n",
    "from sklearn.feature_selection import SelectFromModel\n",
    "from sklearn.calibration import CalibratedClassifierCV\n",
    "from sklearn.preprocessing import StandardScaler, OneHotEncoder\n",
    "from sklearn.pipeline import Pipeline\n",
    "from sklearn.pipeline import make_pipeline\n",
    "from sklearn.metrics import f1_score\n",
    "from sklearn.metrics import roc_auc_score\n",
    "from sklearn.feature_selection import RFECV\n",
    "from sklearn.model_selection import train_test_split\n",
    "from sklearn.preprocessing import PolynomialFeatures, MinMaxScaler, MaxAbsScaler\n",
    "from sklearn.feature_selection import VarianceThreshold, SelectPercentile\n",
    "from sklearn.kernel_approximation import Nystroem\n",
    "from sklearn.neural_network import MLPClassifier\n",
    "from imblearn.under_sampling import RandomUnderSampler\n",
    "from imblearn.pipeline import make_pipeline as make_imb_pipeline\n",
    "from imblearn.over_sampling import RandomOverSampler\n",
    "from imblearn.under_sampling import EditedNearestNeighbours, CondensedNearestNeighbour\n",
    "# from xgboost import XGBClassifier\n",
    "import matplotlib.pyplot as plt\n",
    "import seaborn as sns\n",
    "\n",
    "%matplotlib inline"
   ]
  },
  {
   "cell_type": "markdown",
   "metadata": {},
   "source": [
    "## Loading the data"
   ]
  },
  {
   "cell_type": "code",
   "execution_count": 2,
   "metadata": {},
   "outputs": [
    {
     "data": {
      "text/html": [
       "<div>\n",
       "<table border=\"1\" class=\"dataframe\">\n",
       "  <thead>\n",
       "    <tr style=\"text-align: right;\">\n",
       "      <th></th>\n",
       "      <th>age</th>\n",
       "      <th>job</th>\n",
       "      <th>marital_status</th>\n",
       "      <th>education</th>\n",
       "      <th>credit_default</th>\n",
       "      <th>housing</th>\n",
       "      <th>loan</th>\n",
       "      <th>contact</th>\n",
       "      <th>month</th>\n",
       "      <th>day_of_week</th>\n",
       "      <th>campaign</th>\n",
       "      <th>prev_days</th>\n",
       "      <th>prev_contacts</th>\n",
       "      <th>prev_outcomes</th>\n",
       "      <th>emp_var_rate</th>\n",
       "      <th>cons_price_idx</th>\n",
       "      <th>cons_conf_idx</th>\n",
       "      <th>euribor3m</th>\n",
       "      <th>nr_employed</th>\n",
       "    </tr>\n",
       "  </thead>\n",
       "  <tbody>\n",
       "    <tr>\n",
       "      <th>0</th>\n",
       "      <td>41.0</td>\n",
       "      <td>blue-collar</td>\n",
       "      <td>married</td>\n",
       "      <td>basic.9y</td>\n",
       "      <td>no</td>\n",
       "      <td>yes</td>\n",
       "      <td>no</td>\n",
       "      <td>cellular</td>\n",
       "      <td>apr</td>\n",
       "      <td>mon</td>\n",
       "      <td>2.0</td>\n",
       "      <td>999</td>\n",
       "      <td>0</td>\n",
       "      <td>nonexistent</td>\n",
       "      <td>-1.695118</td>\n",
       "      <td>92.698705</td>\n",
       "      <td>-46.727552</td>\n",
       "      <td>1.345160</td>\n",
       "      <td>5097.0</td>\n",
       "    </tr>\n",
       "    <tr>\n",
       "      <th>1</th>\n",
       "      <td>46.0</td>\n",
       "      <td>entrepreneur</td>\n",
       "      <td>married</td>\n",
       "      <td>unknown</td>\n",
       "      <td>no</td>\n",
       "      <td>no</td>\n",
       "      <td>no</td>\n",
       "      <td>cellular</td>\n",
       "      <td>may</td>\n",
       "      <td>wed</td>\n",
       "      <td>2.0</td>\n",
       "      <td>999</td>\n",
       "      <td>0</td>\n",
       "      <td>nonexistent</td>\n",
       "      <td>-1.767159</td>\n",
       "      <td>92.914878</td>\n",
       "      <td>-46.313088</td>\n",
       "      <td>1.314499</td>\n",
       "      <td>5100.0</td>\n",
       "    </tr>\n",
       "    <tr>\n",
       "      <th>2</th>\n",
       "      <td>56.0</td>\n",
       "      <td>unemployed</td>\n",
       "      <td>married</td>\n",
       "      <td>basic.9y</td>\n",
       "      <td>no</td>\n",
       "      <td>yes</td>\n",
       "      <td>yes</td>\n",
       "      <td>cellular</td>\n",
       "      <td>nov</td>\n",
       "      <td>fri</td>\n",
       "      <td>1.0</td>\n",
       "      <td>999</td>\n",
       "      <td>0</td>\n",
       "      <td>nonexistent</td>\n",
       "      <td>-0.100365</td>\n",
       "      <td>93.423076</td>\n",
       "      <td>-41.904559</td>\n",
       "      <td>4.003471</td>\n",
       "      <td>5193.0</td>\n",
       "    </tr>\n",
       "    <tr>\n",
       "      <th>3</th>\n",
       "      <td>89.0</td>\n",
       "      <td>retired</td>\n",
       "      <td>divorced</td>\n",
       "      <td>basic.4y</td>\n",
       "      <td>no</td>\n",
       "      <td>yes</td>\n",
       "      <td>no</td>\n",
       "      <td>cellular</td>\n",
       "      <td>may</td>\n",
       "      <td>wed</td>\n",
       "      <td>4.0</td>\n",
       "      <td>999</td>\n",
       "      <td>0</td>\n",
       "      <td>nonexistent</td>\n",
       "      <td>-1.771314</td>\n",
       "      <td>93.672814</td>\n",
       "      <td>-46.045500</td>\n",
       "      <td>1.261668</td>\n",
       "      <td>5100.0</td>\n",
       "    </tr>\n",
       "    <tr>\n",
       "      <th>4</th>\n",
       "      <td>34.0</td>\n",
       "      <td>entrepreneur</td>\n",
       "      <td>married</td>\n",
       "      <td>university.degree</td>\n",
       "      <td>unknown</td>\n",
       "      <td>yes</td>\n",
       "      <td>no</td>\n",
       "      <td>cellular</td>\n",
       "      <td>jul</td>\n",
       "      <td>thu</td>\n",
       "      <td>8.0</td>\n",
       "      <td>999</td>\n",
       "      <td>0</td>\n",
       "      <td>nonexistent</td>\n",
       "      <td>1.458103</td>\n",
       "      <td>94.296285</td>\n",
       "      <td>-42.455877</td>\n",
       "      <td>5.152077</td>\n",
       "      <td>5233.0</td>\n",
       "    </tr>\n",
       "  </tbody>\n",
       "</table>\n",
       "</div>"
      ],
      "text/plain": [
       "    age           job marital_status          education credit_default  \\\n",
       "0  41.0   blue-collar        married           basic.9y             no   \n",
       "1  46.0  entrepreneur        married            unknown             no   \n",
       "2  56.0    unemployed        married           basic.9y             no   \n",
       "3  89.0       retired       divorced           basic.4y             no   \n",
       "4  34.0  entrepreneur        married  university.degree        unknown   \n",
       "\n",
       "  housing loan   contact month day_of_week  campaign  prev_days  \\\n",
       "0     yes   no  cellular   apr         mon       2.0        999   \n",
       "1      no   no  cellular   may         wed       2.0        999   \n",
       "2     yes  yes  cellular   nov         fri       1.0        999   \n",
       "3     yes   no  cellular   may         wed       4.0        999   \n",
       "4     yes   no  cellular   jul         thu       8.0        999   \n",
       "\n",
       "   prev_contacts prev_outcomes  emp_var_rate  cons_price_idx  cons_conf_idx  \\\n",
       "0              0   nonexistent     -1.695118       92.698705     -46.727552   \n",
       "1              0   nonexistent     -1.767159       92.914878     -46.313088   \n",
       "2              0   nonexistent     -0.100365       93.423076     -41.904559   \n",
       "3              0   nonexistent     -1.771314       93.672814     -46.045500   \n",
       "4              0   nonexistent      1.458103       94.296285     -42.455877   \n",
       "\n",
       "   euribor3m  nr_employed  \n",
       "0   1.345160       5097.0  \n",
       "1   1.314499       5100.0  \n",
       "2   4.003471       5193.0  \n",
       "3   1.261668       5100.0  \n",
       "4   5.152077       5233.0  "
      ]
     },
     "execution_count": 2,
     "metadata": {},
     "output_type": "execute_result"
    }
   ],
   "source": [
    "plt.rcParams[\"figure.dpi\"] = 100\n",
    "\n",
    "data_df = pd.read_csv(\"./data/data.csv\")\n",
    "data_df.drop(\"duration\", axis=1, inplace=True)\n",
    "\n",
    "holdout_df = pd.read_csv(\"./data/holdout.csv\")\n",
    "holdout_df.drop(\"duration\", axis=1, inplace=True)\n",
    "\n",
    "subscribed = data_df.subscribed\n",
    "data_df = data_df.drop(\"subscribed\", axis=1)\n",
    "\n",
    "subscribed = subscribed == \"yes\"\n",
    "data_df.head()"
   ]
  },
  {
   "cell_type": "code",
   "execution_count": 3,
   "metadata": {},
   "outputs": [
    {
     "data": {
      "text/plain": [
       "(32950, 19)"
      ]
     },
     "execution_count": 3,
     "metadata": {},
     "output_type": "execute_result"
    }
   ],
   "source": [
    "data_df.shape"
   ]
  },
  {
   "cell_type": "markdown",
   "metadata": {},
   "source": [
    "# Step1 - Exploration and Preparation"
   ]
  },
  {
   "cell_type": "markdown",
   "metadata": {},
   "source": [
    "# Exploration:"
   ]
  },
  {
   "cell_type": "markdown",
   "metadata": {},
   "source": [
    "### Descriptive Statistics for Continuous Variables"
   ]
  },
  {
   "cell_type": "code",
   "execution_count": 4,
   "metadata": {},
   "outputs": [
    {
     "data": {
      "text/html": [
       "<div>\n",
       "<table border=\"1\" class=\"dataframe\">\n",
       "  <thead>\n",
       "    <tr style=\"text-align: right;\">\n",
       "      <th></th>\n",
       "      <th>age</th>\n",
       "      <th>campaign</th>\n",
       "      <th>prev_days</th>\n",
       "      <th>prev_contacts</th>\n",
       "      <th>emp_var_rate</th>\n",
       "      <th>cons_price_idx</th>\n",
       "      <th>cons_conf_idx</th>\n",
       "      <th>euribor3m</th>\n",
       "      <th>nr_employed</th>\n",
       "    </tr>\n",
       "  </thead>\n",
       "  <tbody>\n",
       "    <tr>\n",
       "      <th>count</th>\n",
       "      <td>32950.000000</td>\n",
       "      <td>32950.000000</td>\n",
       "      <td>32950.000000</td>\n",
       "      <td>32950.000000</td>\n",
       "      <td>32950.000000</td>\n",
       "      <td>32950.000000</td>\n",
       "      <td>32950.000000</td>\n",
       "      <td>32950.000000</td>\n",
       "      <td>32950.000000</td>\n",
       "    </tr>\n",
       "    <tr>\n",
       "      <th>mean</th>\n",
       "      <td>40.019059</td>\n",
       "      <td>2.641639</td>\n",
       "      <td>961.537906</td>\n",
       "      <td>0.174385</td>\n",
       "      <td>0.080115</td>\n",
       "      <td>93.583705</td>\n",
       "      <td>-40.496740</td>\n",
       "      <td>3.618901</td>\n",
       "      <td>5166.932832</td>\n",
       "    </tr>\n",
       "    <tr>\n",
       "      <th>std</th>\n",
       "      <td>10.850807</td>\n",
       "      <td>2.803230</td>\n",
       "      <td>189.209917</td>\n",
       "      <td>0.498989</td>\n",
       "      <td>1.573180</td>\n",
       "      <td>1.162662</td>\n",
       "      <td>4.645301</td>\n",
       "      <td>1.737149</td>\n",
       "      <td>72.439480</td>\n",
       "    </tr>\n",
       "    <tr>\n",
       "      <th>min</th>\n",
       "      <td>17.000000</td>\n",
       "      <td>1.000000</td>\n",
       "      <td>0.000000</td>\n",
       "      <td>0.000000</td>\n",
       "      <td>-3.695294</td>\n",
       "      <td>88.311974</td>\n",
       "      <td>-52.220779</td>\n",
       "      <td>0.325461</td>\n",
       "      <td>4963.600000</td>\n",
       "    </tr>\n",
       "    <tr>\n",
       "      <th>25%</th>\n",
       "      <td>32.000000</td>\n",
       "      <td>1.000000</td>\n",
       "      <td>999.000000</td>\n",
       "      <td>0.000000</td>\n",
       "      <td>-1.724208</td>\n",
       "      <td>92.800661</td>\n",
       "      <td>-43.087110</td>\n",
       "      <td>1.377065</td>\n",
       "      <td>5101.000000</td>\n",
       "    </tr>\n",
       "    <tr>\n",
       "      <th>50%</th>\n",
       "      <td>38.000000</td>\n",
       "      <td>2.000000</td>\n",
       "      <td>999.000000</td>\n",
       "      <td>0.000000</td>\n",
       "      <td>1.085053</td>\n",
       "      <td>93.586959</td>\n",
       "      <td>-41.685507</td>\n",
       "      <td>4.800570</td>\n",
       "      <td>5194.000000</td>\n",
       "    </tr>\n",
       "    <tr>\n",
       "      <th>75%</th>\n",
       "      <td>47.000000</td>\n",
       "      <td>3.000000</td>\n",
       "      <td>999.000000</td>\n",
       "      <td>0.000000</td>\n",
       "      <td>1.366367</td>\n",
       "      <td>94.381404</td>\n",
       "      <td>-36.404580</td>\n",
       "      <td>4.943674</td>\n",
       "      <td>5226.000000</td>\n",
       "    </tr>\n",
       "    <tr>\n",
       "      <th>max</th>\n",
       "      <td>97.000000</td>\n",
       "      <td>56.000000</td>\n",
       "      <td>999.000000</td>\n",
       "      <td>7.000000</td>\n",
       "      <td>1.785673</td>\n",
       "      <td>98.263042</td>\n",
       "      <td>-25.323735</td>\n",
       "      <td>5.362403</td>\n",
       "      <td>5249.000000</td>\n",
       "    </tr>\n",
       "  </tbody>\n",
       "</table>\n",
       "</div>"
      ],
      "text/plain": [
       "                age      campaign     prev_days  prev_contacts  emp_var_rate  \\\n",
       "count  32950.000000  32950.000000  32950.000000   32950.000000  32950.000000   \n",
       "mean      40.019059      2.641639    961.537906       0.174385      0.080115   \n",
       "std       10.850807      2.803230    189.209917       0.498989      1.573180   \n",
       "min       17.000000      1.000000      0.000000       0.000000     -3.695294   \n",
       "25%       32.000000      1.000000    999.000000       0.000000     -1.724208   \n",
       "50%       38.000000      2.000000    999.000000       0.000000      1.085053   \n",
       "75%       47.000000      3.000000    999.000000       0.000000      1.366367   \n",
       "max       97.000000     56.000000    999.000000       7.000000      1.785673   \n",
       "\n",
       "       cons_price_idx  cons_conf_idx     euribor3m   nr_employed  \n",
       "count    32950.000000   32950.000000  32950.000000  32950.000000  \n",
       "mean        93.583705     -40.496740      3.618901   5166.932832  \n",
       "std          1.162662       4.645301      1.737149     72.439480  \n",
       "min         88.311974     -52.220779      0.325461   4963.600000  \n",
       "25%         92.800661     -43.087110      1.377065   5101.000000  \n",
       "50%         93.586959     -41.685507      4.800570   5194.000000  \n",
       "75%         94.381404     -36.404580      4.943674   5226.000000  \n",
       "max         98.263042     -25.323735      5.362403   5249.000000  "
      ]
     },
     "execution_count": 4,
     "metadata": {},
     "output_type": "execute_result"
    }
   ],
   "source": [
    "#write code below, you can make multiple cells\n",
    "# Summary statistics of quantitative variables and categorical variables\n",
    "data_df.describe()"
   ]
  },
  {
   "cell_type": "markdown",
   "metadata": {},
   "source": [
    "We make the following observations from the descriptive statistics above:\n",
    "* The variables 'prev_days' has many '999' (missing) values.\n",
    "* 'prev_contacts' = 0 for most of the data\n",
    "* Rest of the continuous variables seem clean and well populated."
   ]
  },
  {
   "cell_type": "markdown",
   "metadata": {},
   "source": [
    "### Descriptive Statistics for Categorical Variables"
   ]
  },
  {
   "cell_type": "code",
   "execution_count": 5,
   "metadata": {},
   "outputs": [
    {
     "data": {
      "text/html": [
       "<div>\n",
       "<table border=\"1\" class=\"dataframe\">\n",
       "  <thead>\n",
       "    <tr style=\"text-align: right;\">\n",
       "      <th></th>\n",
       "      <th>job</th>\n",
       "      <th>marital_status</th>\n",
       "      <th>education</th>\n",
       "      <th>credit_default</th>\n",
       "      <th>housing</th>\n",
       "      <th>loan</th>\n",
       "      <th>contact</th>\n",
       "      <th>month</th>\n",
       "      <th>day_of_week</th>\n",
       "      <th>prev_outcomes</th>\n",
       "    </tr>\n",
       "  </thead>\n",
       "  <tbody>\n",
       "    <tr>\n",
       "      <th>count</th>\n",
       "      <td>32950</td>\n",
       "      <td>32950</td>\n",
       "      <td>32950</td>\n",
       "      <td>32950</td>\n",
       "      <td>32950</td>\n",
       "      <td>32950</td>\n",
       "      <td>32950</td>\n",
       "      <td>32950</td>\n",
       "      <td>32950</td>\n",
       "      <td>32950</td>\n",
       "    </tr>\n",
       "    <tr>\n",
       "      <th>unique</th>\n",
       "      <td>12</td>\n",
       "      <td>4</td>\n",
       "      <td>8</td>\n",
       "      <td>3</td>\n",
       "      <td>3</td>\n",
       "      <td>3</td>\n",
       "      <td>2</td>\n",
       "      <td>10</td>\n",
       "      <td>5</td>\n",
       "      <td>3</td>\n",
       "    </tr>\n",
       "    <tr>\n",
       "      <th>top</th>\n",
       "      <td>admin.</td>\n",
       "      <td>married</td>\n",
       "      <td>university.degree</td>\n",
       "      <td>no</td>\n",
       "      <td>yes</td>\n",
       "      <td>no</td>\n",
       "      <td>cellular</td>\n",
       "      <td>may</td>\n",
       "      <td>thu</td>\n",
       "      <td>nonexistent</td>\n",
       "    </tr>\n",
       "    <tr>\n",
       "      <th>freq</th>\n",
       "      <td>8342</td>\n",
       "      <td>19955</td>\n",
       "      <td>9760</td>\n",
       "      <td>26059</td>\n",
       "      <td>17176</td>\n",
       "      <td>27179</td>\n",
       "      <td>20902</td>\n",
       "      <td>11016</td>\n",
       "      <td>6945</td>\n",
       "      <td>28423</td>\n",
       "    </tr>\n",
       "  </tbody>\n",
       "</table>\n",
       "</div>"
      ],
      "text/plain": [
       "           job marital_status          education credit_default housing  \\\n",
       "count    32950          32950              32950          32950   32950   \n",
       "unique      12              4                  8              3       3   \n",
       "top     admin.        married  university.degree             no     yes   \n",
       "freq      8342          19955               9760          26059   17176   \n",
       "\n",
       "         loan   contact  month day_of_week prev_outcomes  \n",
       "count   32950     32950  32950       32950         32950  \n",
       "unique      3         2     10           5             3  \n",
       "top        no  cellular    may         thu   nonexistent  \n",
       "freq    27179     20902  11016        6945         28423  "
      ]
     },
     "execution_count": 5,
     "metadata": {},
     "output_type": "execute_result"
    }
   ],
   "source": [
    "data_df.describe(include=[\"object\"])"
   ]
  },
  {
   "cell_type": "markdown",
   "metadata": {},
   "source": [
    "* We have 10 categorical variables\n"
   ]
  },
  {
   "cell_type": "code",
   "execution_count": 6,
   "metadata": {
    "collapsed": true
   },
   "outputs": [],
   "source": [
    "categorical_vars = data_df.describe(include=[\"object\"]).columns\n",
    "continuous_vars = data_df.describe().columns"
   ]
  },
  {
   "cell_type": "code",
   "execution_count": 7,
   "metadata": {},
   "outputs": [
    {
     "data": {
      "text/plain": [
       "Index(['age', 'campaign', 'prev_days', 'prev_contacts', 'emp_var_rate',\n",
       "       'cons_price_idx', 'cons_conf_idx', 'euribor3m', 'nr_employed'],\n",
       "      dtype='object')"
      ]
     },
     "execution_count": 7,
     "metadata": {},
     "output_type": "execute_result"
    }
   ],
   "source": [
    "continuous_vars"
   ]
  },
  {
   "cell_type": "code",
   "execution_count": 8,
   "metadata": {},
   "outputs": [
    {
     "data": {
      "text/plain": [
       "Index(['job', 'marital_status', 'education', 'credit_default', 'housing',\n",
       "       'loan', 'contact', 'month', 'day_of_week', 'prev_outcomes'],\n",
       "      dtype='object')"
      ]
     },
     "execution_count": 8,
     "metadata": {},
     "output_type": "execute_result"
    }
   ],
   "source": [
    "categorical_vars"
   ]
  },
  {
   "cell_type": "markdown",
   "metadata": {},
   "source": [
    "### Visualizing Distribution of Continuous Variables"
   ]
  },
  {
   "cell_type": "code",
   "execution_count": 9,
   "metadata": {},
   "outputs": [
    {
     "data": {
      "image/png": "[encoded data removed]",
      "text/plain": [
       "<matplotlib.figure.Figure at 0x10bbbdef0>"
      ]
     },
     "metadata": {},
     "output_type": "display_data"
    }
   ],
   "source": [
    "_ = data_df.hist(column=continuous_vars, figsize = (16,16))"
   ]
  },
  {
   "cell_type": "markdown",
   "metadata": {},
   "source": [
    "### Visualizing Distribution of Categorical Variables"
   ]
  },
  {
   "cell_type": "code",
   "execution_count": 10,
   "metadata": {},
   "outputs": [
    {
     "data": {
      "image/png": "[encoded data removed]",
      "text/plain": [
       "<matplotlib.figure.Figure at 0x10f13b9b0>"
      ]
     },
     "metadata": {},
     "output_type": "display_data"
    }
   ],
   "source": [
    "# Count plots of categorical variables\n",
    "\n",
    "fig, axes = plt.subplots(4, 3, figsize=(16, 16))\n",
    "plt.subplots_adjust(left=None, bottom=None, right=None, top=None, wspace=0.7, hspace=0.3)\n",
    "\n",
    "for i, ax in enumerate(axes.ravel()):\n",
    "    if i > 9:\n",
    "        ax.set_visible(False)\n",
    "        continue\n",
    "    sns.countplot(y = categorical_vars[i], data=data_df, ax=ax)"
   ]
  },
  {
   "cell_type": "markdown",
   "metadata": {},
   "source": [
    "### Scatter Plot Matrix for checking Correlations (takes long to build on travis, commented)"
   ]
  },
  {
   "cell_type": "code",
   "execution_count": 11,
   "metadata": {
    "collapsed": true
   },
   "outputs": [],
   "source": [
    "#pd.tools.plotting.scatter_matrix(data_df[continuous_vars], c=subscribed, alpha=.2, figsize=(15, 15), cmap=\"viridis\");"
   ]
  },
  {
   "cell_type": "markdown",
   "metadata": {},
   "source": [
    "# Preparation\n",
    "\n",
    "* Creating dummy variables for categorical variables\n",
    "* Scaling numerical variables\n",
    "* Removing variables based on variance"
   ]
  },
  {
   "cell_type": "markdown",
   "metadata": {},
   "source": [
    "### Creating Dummy Variables"
   ]
  },
  {
   "cell_type": "code",
   "execution_count": 12,
   "metadata": {},
   "outputs": [
    {
     "data": {
      "text/html": [
       "<div>\n",
       "<table border=\"1\" class=\"dataframe\">\n",
       "  <thead>\n",
       "    <tr style=\"text-align: right;\">\n",
       "      <th></th>\n",
       "      <th>age</th>\n",
       "      <th>job</th>\n",
       "      <th>marital_status</th>\n",
       "      <th>education</th>\n",
       "      <th>credit_default</th>\n",
       "      <th>housing</th>\n",
       "      <th>loan</th>\n",
       "      <th>contact</th>\n",
       "      <th>month</th>\n",
       "      <th>day_of_week</th>\n",
       "      <th>campaign</th>\n",
       "      <th>prev_days</th>\n",
       "      <th>prev_contacts</th>\n",
       "      <th>prev_outcomes</th>\n",
       "      <th>emp_var_rate</th>\n",
       "      <th>cons_price_idx</th>\n",
       "      <th>cons_conf_idx</th>\n",
       "      <th>euribor3m</th>\n",
       "      <th>nr_employed</th>\n",
       "    </tr>\n",
       "  </thead>\n",
       "  <tbody>\n",
       "    <tr>\n",
       "      <th>0</th>\n",
       "      <td>41.0</td>\n",
       "      <td>blue-collar</td>\n",
       "      <td>married</td>\n",
       "      <td>basic.9y</td>\n",
       "      <td>no</td>\n",
       "      <td>yes</td>\n",
       "      <td>no</td>\n",
       "      <td>cellular</td>\n",
       "      <td>apr</td>\n",
       "      <td>mon</td>\n",
       "      <td>2.0</td>\n",
       "      <td>999</td>\n",
       "      <td>0</td>\n",
       "      <td>nonexistent</td>\n",
       "      <td>-1.695118</td>\n",
       "      <td>92.698705</td>\n",
       "      <td>-46.727552</td>\n",
       "      <td>1.345160</td>\n",
       "      <td>5097.0</td>\n",
       "    </tr>\n",
       "    <tr>\n",
       "      <th>1</th>\n",
       "      <td>46.0</td>\n",
       "      <td>entrepreneur</td>\n",
       "      <td>married</td>\n",
       "      <td>unknown</td>\n",
       "      <td>no</td>\n",
       "      <td>no</td>\n",
       "      <td>no</td>\n",
       "      <td>cellular</td>\n",
       "      <td>may</td>\n",
       "      <td>wed</td>\n",
       "      <td>2.0</td>\n",
       "      <td>999</td>\n",
       "      <td>0</td>\n",
       "      <td>nonexistent</td>\n",
       "      <td>-1.767159</td>\n",
       "      <td>92.914878</td>\n",
       "      <td>-46.313088</td>\n",
       "      <td>1.314499</td>\n",
       "      <td>5100.0</td>\n",
       "    </tr>\n",
       "    <tr>\n",
       "      <th>2</th>\n",
       "      <td>56.0</td>\n",
       "      <td>unemployed</td>\n",
       "      <td>married</td>\n",
       "      <td>basic.9y</td>\n",
       "      <td>no</td>\n",
       "      <td>yes</td>\n",
       "      <td>yes</td>\n",
       "      <td>cellular</td>\n",
       "      <td>nov</td>\n",
       "      <td>fri</td>\n",
       "      <td>1.0</td>\n",
       "      <td>999</td>\n",
       "      <td>0</td>\n",
       "      <td>nonexistent</td>\n",
       "      <td>-0.100365</td>\n",
       "      <td>93.423076</td>\n",
       "      <td>-41.904559</td>\n",
       "      <td>4.003471</td>\n",
       "      <td>5193.0</td>\n",
       "    </tr>\n",
       "    <tr>\n",
       "      <th>3</th>\n",
       "      <td>89.0</td>\n",
       "      <td>retired</td>\n",
       "      <td>divorced</td>\n",
       "      <td>basic.4y</td>\n",
       "      <td>no</td>\n",
       "      <td>yes</td>\n",
       "      <td>no</td>\n",
       "      <td>cellular</td>\n",
       "      <td>may</td>\n",
       "      <td>wed</td>\n",
       "      <td>4.0</td>\n",
       "      <td>999</td>\n",
       "      <td>0</td>\n",
       "      <td>nonexistent</td>\n",
       "      <td>-1.771314</td>\n",
       "      <td>93.672814</td>\n",
       "      <td>-46.045500</td>\n",
       "      <td>1.261668</td>\n",
       "      <td>5100.0</td>\n",
       "    </tr>\n",
       "    <tr>\n",
       "      <th>4</th>\n",
       "      <td>34.0</td>\n",
       "      <td>entrepreneur</td>\n",
       "      <td>married</td>\n",
       "      <td>university.degree</td>\n",
       "      <td>unknown</td>\n",
       "      <td>yes</td>\n",
       "      <td>no</td>\n",
       "      <td>cellular</td>\n",
       "      <td>jul</td>\n",
       "      <td>thu</td>\n",
       "      <td>8.0</td>\n",
       "      <td>999</td>\n",
       "      <td>0</td>\n",
       "      <td>nonexistent</td>\n",
       "      <td>1.458103</td>\n",
       "      <td>94.296285</td>\n",
       "      <td>-42.455877</td>\n",
       "      <td>5.152077</td>\n",
       "      <td>5233.0</td>\n",
       "    </tr>\n",
       "  </tbody>\n",
       "</table>\n",
       "</div>"
      ],
      "text/plain": [
       "    age           job marital_status          education credit_default  \\\n",
       "0  41.0   blue-collar        married           basic.9y             no   \n",
       "1  46.0  entrepreneur        married            unknown             no   \n",
       "2  56.0    unemployed        married           basic.9y             no   \n",
       "3  89.0       retired       divorced           basic.4y             no   \n",
       "4  34.0  entrepreneur        married  university.degree        unknown   \n",
       "\n",
       "  housing loan   contact month day_of_week  campaign  prev_days  \\\n",
       "0     yes   no  cellular   apr         mon       2.0        999   \n",
       "1      no   no  cellular   may         wed       2.0        999   \n",
       "2     yes  yes  cellular   nov         fri       1.0        999   \n",
       "3     yes   no  cellular   may         wed       4.0        999   \n",
       "4     yes   no  cellular   jul         thu       8.0        999   \n",
       "\n",
       "   prev_contacts prev_outcomes  emp_var_rate  cons_price_idx  cons_conf_idx  \\\n",
       "0              0   nonexistent     -1.695118       92.698705     -46.727552   \n",
       "1              0   nonexistent     -1.767159       92.914878     -46.313088   \n",
       "2              0   nonexistent     -0.100365       93.423076     -41.904559   \n",
       "3              0   nonexistent     -1.771314       93.672814     -46.045500   \n",
       "4              0   nonexistent      1.458103       94.296285     -42.455877   \n",
       "\n",
       "   euribor3m  nr_employed  \n",
       "0   1.345160       5097.0  \n",
       "1   1.314499       5100.0  \n",
       "2   4.003471       5193.0  \n",
       "3   1.261668       5100.0  \n",
       "4   5.152077       5233.0  "
      ]
     },
     "execution_count": 12,
     "metadata": {},
     "output_type": "execute_result"
    }
   ],
   "source": [
    "data_df.head()"
   ]
  },
  {
   "cell_type": "code",
   "execution_count": 13,
   "metadata": {
    "collapsed": true
   },
   "outputs": [],
   "source": [
    "# Creating dummy variables\n",
    "data_dummies_df = pd.get_dummies(data_df, columns=categorical_vars, drop_first=True)\n",
    "holdout_dummies_df = pd.get_dummies(holdout_df, columns=categorical_vars, drop_first=True)"
   ]
  },
  {
   "cell_type": "code",
   "execution_count": 14,
   "metadata": {
    "collapsed": true
   },
   "outputs": [],
   "source": [
    "#data_dummies_df.columns"
   ]
  },
  {
   "cell_type": "code",
   "execution_count": 15,
   "metadata": {
    "collapsed": true
   },
   "outputs": [],
   "source": [
    "output_df = pd.DataFrame(holdout_df[\"ID\"])\n",
    "holdout_dummies_df.drop(\"ID\", axis=1, inplace=True)"
   ]
  },
  {
   "cell_type": "code",
   "execution_count": 16,
   "metadata": {
    "collapsed": true
   },
   "outputs": [],
   "source": [
    "#holdout_dummies_df.columns"
   ]
  },
  {
   "cell_type": "code",
   "execution_count": 17,
   "metadata": {
    "collapsed": true
   },
   "outputs": [],
   "source": [
    "holdout_dummies_df['credit_default_yes'] = 0\n",
    "holdout_dummies_df = holdout_dummies_df[data_dummies_df.columns]"
   ]
  },
  {
   "cell_type": "markdown",
   "metadata": {},
   "source": [
    "### Creating Submission Output"
   ]
  },
  {
   "cell_type": "markdown",
   "metadata": {},
   "source": [
    "** Create the output.csv to upload on Kaggle **"
   ]
  },
  {
   "cell_type": "code",
   "execution_count": 18,
   "metadata": {
    "collapsed": true
   },
   "outputs": [],
   "source": [
    "def create_submission_output(output_df, pipe):\n",
    "    output = pd.concat([output_df, pd.DataFrame(pipe.predict_proba(holdout_dummies_df)[:, 1])], axis=1)\n",
    "    output.rename(columns = {0:\"subscribed\"}, inplace=True)\n",
    "    output.set_index(\"ID\").to_csv(\"output.csv\")\n",
    "    return output.head()"
   ]
  },
  {
   "cell_type": "markdown",
   "metadata": {},
   "source": [
    "# Step2 - ModelSet1\n",
    "\n",
    "In this step, the following steps relevant to the Machine Learning models used have been shown:\n",
    "\n",
    "* feature engineering\n",
    "* validation\n",
    "* feature selection\n",
    "* final model selection"
   ]
  },
  {
   "cell_type": "markdown",
   "metadata": {},
   "source": [
    "### 1. Logisitc Regression CV with StandardScalar"
   ]
  },
  {
   "cell_type": "markdown",
   "metadata": {},
   "source": [
    "### (a) First we build a simple logistic regression model by standardizing all the features using the Standard scaler."
   ]
  },
  {
   "cell_type": "markdown",
   "metadata": {},
   "source": [
    "** Standard Scaling just the continuous Variables **"
   ]
  },
  {
   "cell_type": "code",
   "execution_count": 19,
   "metadata": {
    "collapsed": true
   },
   "outputs": [],
   "source": [
    "categorical_dummies = pd.get_dummies(data_df[categorical_vars], drop_first=True).columns"
   ]
  },
  {
   "cell_type": "code",
   "execution_count": 20,
   "metadata": {},
   "outputs": [
    {
     "name": "stdout",
     "output_type": "stream",
     "text": [
      "0.789408598048\n"
     ]
    }
   ],
   "source": [
    "from sklearn.preprocessing import FunctionTransformer\n",
    "from sklearn.pipeline import make_union\n",
    "\n",
    "select_categorical = FunctionTransformer(lambda X: X[categorical_dummies],validate = False)\n",
    "select_continuous = FunctionTransformer(lambda X: X[continuous_vars],validate = False)\n",
    "\n",
    "fu = make_union(select_categorical, make_pipeline(select_continuous, StandardScaler()))\n",
    "pipe = make_pipeline(fu, LogisticRegressionCV())\n",
    "\n",
    "print(np.mean(cross_val_score(pipe, data_dummies_df, subscribed, cv=5, scoring=\"roc_auc\")))"
   ]
  },
  {
   "cell_type": "code",
   "execution_count": 21,
   "metadata": {
    "collapsed": true
   },
   "outputs": [],
   "source": [
    "pipe.fit(data_dummies_df, subscribed)\n",
    "create_submission_output(output_df, pipe)"
   ]
  },
  {
   "cell_type": "markdown",
   "metadata": {},
   "source": [
    "** Standard Scaling all the features ** "
   ]
  },
  {
   "cell_type": "code",
   "execution_count": 22,
   "metadata": {},
   "outputs": [
    {
     "name": "stdout",
     "output_type": "stream",
     "text": [
      "0.791280720729\n"
     ]
    }
   ],
   "source": [
    "pipe = make_pipeline(StandardScaler(), LogisticRegressionCV())\n",
    "print(np.mean(cross_val_score(pipe, data_dummies_df, subscribed, cv=5, scoring=\"roc_auc\")))"
   ]
  },
  {
   "cell_type": "code",
   "execution_count": 23,
   "metadata": {},
   "outputs": [
    {
     "data": {
      "text/plain": [
       "Pipeline(steps=[('standardscaler', StandardScaler(copy=True, with_mean=True, with_std=True)), ('logisticregressioncv', LogisticRegressionCV(Cs=10, class_weight=None, cv=None, dual=False,\n",
       "           fit_intercept=True, intercept_scaling=1.0, max_iter=100,\n",
       "           multi_class='ovr', n_jobs=1, penalty='l2', random_state=None,\n",
       "           refit=True, scoring=None, solver='lbfgs', tol=0.0001, verbose=0))])"
      ]
     },
     "execution_count": 23,
     "metadata": {},
     "output_type": "execute_result"
    }
   ],
   "source": [
    "pipe.fit(data_dummies_df, subscribed)\n",
    "create_submission_output(output_df, pipe)"
   ]
  },
  {
   "cell_type": "code",
   "execution_count": 24,
   "metadata": {},
   "outputs": [
    {
     "data": {
      "text/plain": [
       "<matplotlib.axes._subplots.AxesSubplot at 0x111c48be0>"
      ]
     },
     "execution_count": 24,
     "metadata": {},
     "output_type": "execute_result"
    },
    {
     "data": {
      "image/png": "[encoded data removed]",
      "text/plain": [
       "<matplotlib.figure.Figure at 0x111c38dd8>"
      ]
     },
     "metadata": {},
     "output_type": "display_data"
    }
   ],
   "source": [
    "plt.figure(figsize=(5, 15))\n",
    "coef = pd.Series(pipe.named_steps['logisticregressioncv'].coef_.ravel(), index=data_dummies_df.columns)\n",
    "coef.sort_values().plot(kind=\"barh\")"
   ]
  },
  {
   "cell_type": "markdown",
   "metadata": {},
   "source": [
    "In one model we standardize only the continuous variables and leave the categorical variables as it is. \n",
    "In another model we standardize all the variables (including categorical variables). The model gives a better cross-val score in the second case. We get an average cross-val score of 78.9%, so we use StandardScaler in all the later models to Scale all the features in the pipeline.\n",
    "\n",
    "Also, looking at the weights assigned to the features, we observe that around 50% of the variables are those with significant weights and therefore we set a feature selection threshold as 50% for a few models later."
   ]
  },
  {
   "cell_type": "markdown",
   "metadata": {},
   "source": [
    "### (b) Logistic Regression with Kernel"
   ]
  },
  {
   "cell_type": "markdown",
   "metadata": {},
   "source": [
    "#### Next we use kernelized logistic regression to make our prediction. Again we use standard scaler before fitting our model."
   ]
  },
  {
   "cell_type": "code",
   "execution_count": 25,
   "metadata": {
    "collapsed": true
   },
   "outputs": [],
   "source": [
    "approx = Nystroem(gamma=1./data_dummies_df.shape[1], n_components=300)\n",
    "\n",
    "pipe = make_pipeline(StandardScaler(), approx, LogisticRegressionCV())\n",
    "\n",
    "print(np.mean(cross_val_score(pipe, data_dummies_df, subscribed, cv=5, scoring=\"roc_auc\")))"
   ]
  },
  {
   "cell_type": "code",
   "execution_count": 26,
   "metadata": {
    "collapsed": true
   },
   "outputs": [],
   "source": [
    "pipe.fit(data_dummies_df, subscribed)\n",
    "create_submission_output(output_df, pipe)"
   ]
  },
  {
   "cell_type": "markdown",
   "metadata": {},
   "source": [
    "Logistic Regression using Kernel Approximation did not result in an improvement as compared to LogisticRegressionCV with using a Standard Scaler."
   ]
  },
  {
   "cell_type": "markdown",
   "metadata": {},
   "source": [
    "### (c) Logistic Regression with Feature Selection"
   ]
  },
  {
   "cell_type": "markdown",
   "metadata": {},
   "source": [
    "* We now perform feature selection using f_classif before fitting a Logistic model on the data.\n",
    "* Feature engineering is performed by adding interaction features to our feature set. \n",
    "* Top 50 percentile of features are selected using f_classif."
   ]
  },
  {
   "cell_type": "code",
   "execution_count": 28,
   "metadata": {
    "collapsed": true
   },
   "outputs": [],
   "source": [
    "pipe = make_pipeline(StandardScaler(), SelectPercentile(score_func=f_classif, percentile=50), \n",
    "                     PolynomialFeatures(interaction_only=True), \n",
    "                     VarianceThreshold(),\n",
    "                     LogisticRegressionCV())\n",
    "print(np.mean(cross_val_score(pipe, data_dummies_df, subscribed, cv=5, scoring=\"roc_auc\")))"
   ]
  },
  {
   "cell_type": "code",
   "execution_count": 29,
   "metadata": {
    "collapsed": true
   },
   "outputs": [],
   "source": [
    "pipe.fit(data_dummies_df, subscribed)\n",
    "create_submission_output(output_df, pipe)"
   ]
  },
  {
   "cell_type": "code",
   "execution_count": 30,
   "metadata": {
    "collapsed": true
   },
   "outputs": [],
   "source": [
    "roc_auc_score(y_test, pipe.predict_proba(X_test)[:, 1])"
   ]
  },
  {
   "cell_type": "markdown",
   "metadata": {},
   "source": [
    "We used SelectPercentile with various values in GridSearch, but as the percentage increases, the value increased which shows that even if the logistic weights are lower for a few features, they are still important for classification."
   ]
  },
  {
   "cell_type": "markdown",
   "metadata": {},
   "source": [
    "### (d) SelectFromModel : Lasso with Logistic Regression"
   ]
  },
  {
   "cell_type": "markdown",
   "metadata": {},
   "source": [
    "* We wanted to perform feature selection using SelectModel, where we use LassoCV.\n",
    "* Threshold was set as the median, by observing the important features using Logistic Regression from part a)"
   ]
  },
  {
   "cell_type": "code",
   "execution_count": 31,
   "metadata": {
    "collapsed": true
   },
   "outputs": [],
   "source": [
    "select_lassocv = SelectFromModel(LassoCV(), threshold=\"median\")\n",
    "pipe_lassocv = make_pipeline(StandardScaler(), select_lassocv, LogisticRegressionCV())\n",
    "print(np.mean(cross_val_score(pipe_lassocv, data_dummies_df, subscribed, cv=10, scoring=\"roc_auc\")))"
   ]
  },
  {
   "cell_type": "code",
   "execution_count": 32,
   "metadata": {
    "collapsed": true
   },
   "outputs": [],
   "source": [
    "pipe_lassocv.fit(data_dummies_df, subscribed)\n",
    "create_submission_output(output_df, pipe_lassocv)"
   ]
  },
  {
   "cell_type": "markdown",
   "metadata": {},
   "source": [
    "Using SelectfromModel with Lasso, we get comparable CV scores as compared to Logistic Regression with StandardScaler, so we wanted to explore a lot of other parameters using GridSearch."
   ]
  },
  {
   "cell_type": "markdown",
   "metadata": {},
   "source": [
    "### (e) Logistic Regression Parameter Tuning"
   ]
  },
  {
   "cell_type": "markdown",
   "metadata": {},
   "source": [
    "* Now we try to tune our hyper-parameters to obtain best hyper-parameters. \n",
    "* Since LogisticRegressionCV already tunes 'C' for logistic regression, we tune **max_features and polynomial degree**."
   ]
  },
  {
   "cell_type": "code",
   "execution_count": 33,
   "metadata": {
    "collapsed": true
   },
   "outputs": [],
   "source": [
    "pipe = make_pipeline(SelectPercentile(score_func=f_classif, percentile=50), \n",
    "                     PolynomialFeatures(interaction_only=True), \n",
    "                     VarianceThreshold(),\n",
    "                     LogisticRegressionCV())\n",
    "param_grid = {'selectpercentile__percentile': [50], \n",
    "              'polynomialfeatures__degree': [2]}\n",
    "grid = GridSearchCV(pipe, param_grid, cv=5, scoring=\"roc_auc\")"
   ]
  },
  {
   "cell_type": "code",
   "execution_count": 34,
   "metadata": {
    "collapsed": true,
    "scrolled": true
   },
   "outputs": [],
   "source": [
    "grid.fit(data_dummies_df, subscribed)"
   ]
  },
  {
   "cell_type": "code",
   "execution_count": 35,
   "metadata": {
    "collapsed": true
   },
   "outputs": [],
   "source": [
    "grid.best_score_"
   ]
  },
  {
   "cell_type": "code",
   "execution_count": 36,
   "metadata": {
    "collapsed": true
   },
   "outputs": [],
   "source": [
    "grid.best_params_"
   ]
  },
  {
   "cell_type": "code",
   "execution_count": 37,
   "metadata": {
    "collapsed": true
   },
   "outputs": [],
   "source": [
    "create_submission_output(output_df, grid)"
   ]
  },
  {
   "cell_type": "markdown",
   "metadata": {},
   "source": [
    "We obtain a best cross-val roc_auc **score of 78.89%** after parameter tuning with features selected using f_classif."
   ]
  },
  {
   "cell_type": "markdown",
   "metadata": {},
   "source": [
    "** Observations: **\n",
    "\n",
    "For the logistic regression, using the LogisticRegressionCV with just standard scaling works best and its CV score is comparable to the score obtained by doing feature selection using LassoCV. Therefore, we just use the LogisticRegressionCV for our ensemble methods later."
   ]
  },
  {
   "cell_type": "markdown",
   "metadata": {},
   "source": [
    "### 2. MLP Classifier"
   ]
  },
  {
   "cell_type": "markdown",
   "metadata": {},
   "source": [
    "We try another linear classifier, multi-layered perceptron. \n",
    "\n",
    "Takes long time to build on travis, commented"
   ]
  },
  {
   "cell_type": "code",
   "execution_count": 38,
   "metadata": {
    "collapsed": true
   },
   "outputs": [],
   "source": [
    "mlp_pipe =  make_pipeline(StandardScaler(), MLPClassifier(hidden_layer_sizes = 5))\n",
    "param_grid = {'mlpclassifier__hidden_layer_sizes': [5, 10, 50, 100, 200]}\n",
    "param_grid = {} # to optimize code running on travis, the best value is selected by doing the runs\n",
    "grid = GridSearchCV(mlp_pipe, param_grid, cv=5, scoring=\"roc_auc\")"
   ]
  },
  {
   "cell_type": "code",
   "execution_count": 39,
   "metadata": {
    "collapsed": true
   },
   "outputs": [],
   "source": [
    "grid.fit(data_dummies_df, subscribed)"
   ]
  },
  {
   "cell_type": "code",
   "execution_count": 40,
   "metadata": {
    "collapsed": true
   },
   "outputs": [],
   "source": [
    "grid.best_score_"
   ]
  },
  {
   "cell_type": "code",
   "execution_count": 41,
   "metadata": {
    "collapsed": true
   },
   "outputs": [],
   "source": [
    "grid.best_params_"
   ]
  },
  {
   "cell_type": "code",
   "execution_count": 42,
   "metadata": {
    "collapsed": true
   },
   "outputs": [],
   "source": [
    "create_submission_output(output_df, grid)"
   ]
  },
  {
   "cell_type": "markdown",
   "metadata": {},
   "source": [
    "** Observations: **\n",
    "\n",
    "We tried using the MLPClassifier, but it did not perform that well as compared to LogisticRegressionCV from ModelSet1."
   ]
  },
  {
   "cell_type": "markdown",
   "metadata": {},
   "source": [
    "### 3. LinearSVC Classifier with Calibration"
   ]
  },
  {
   "cell_type": "markdown",
   "metadata": {},
   "source": [
    "#### We use a calibrated Linear SVM classifier."
   ]
  },
  {
   "cell_type": "code",
   "execution_count": 43,
   "metadata": {
    "collapsed": true
   },
   "outputs": [],
   "source": [
    "scaled_svc = make_pipeline(StandardScaler(), LinearSVC())\n",
    "clf = CalibratedClassifierCV(scaled_svc) \n",
    "\n",
    "print(np.mean(cross_val_score(clf, data_dummies_df, subscribed, cv=5, scoring=\"roc_auc\")))"
   ]
  },
  {
   "cell_type": "code",
   "execution_count": 44,
   "metadata": {
    "collapsed": true
   },
   "outputs": [],
   "source": [
    "clf.fit(data_dummies_df, subscribed)\n",
    "create_submission_output(output_df, clf)"
   ]
  },
  {
   "cell_type": "markdown",
   "metadata": {},
   "source": [
    "** Observations: **\n",
    "\n",
    "For the LinearSVC classifiers, as they do not return a predict_proba, we need to use a CalibrationClassifier to get the predict probability values.\n",
    "\n",
    "For the LinearSVC also, we do not beat the CV validation scores in ModelSet1 using LogisticRegression Models."
   ]
  },
  {
   "cell_type": "markdown",
   "metadata": {},
   "source": [
    "---"
   ]
  },
  {
   "cell_type": "markdown",
   "metadata": {},
   "source": [
    "# Step3 - ModelSet2\n",
    "\n",
    "In this step, the following steps relevant to the Machine Learning models used have been shown:\n",
    "\n",
    "* feature engineering\n",
    "* validation\n",
    "* feature selection\n",
    "* final model selection"
   ]
  },
  {
   "cell_type": "markdown",
   "metadata": {},
   "source": [
    "### 1. Decision Tree Classifier"
   ]
  },
  {
   "cell_type": "code",
   "execution_count": 45,
   "metadata": {
    "collapsed": true
   },
   "outputs": [],
   "source": [
    "pipe = make_pipeline(DecisionTreeClassifier(max_depth = 6))\n",
    "#param_grid = {'decisiontreeclassifier__max_depth':range(1, 7)}\n",
    "param_grid = {}\n",
    "grid = GridSearchCV(pipe, param_grid=param_grid, scoring='roc_auc', cv=StratifiedShuffleSplit(100))\n",
    "grid.fit(data_dummies_df, subscribed)"
   ]
  },
  {
   "cell_type": "code",
   "execution_count": 46,
   "metadata": {
    "collapsed": true
   },
   "outputs": [],
   "source": [
    "grid.best_score_, grid.best_params_"
   ]
  },
  {
   "cell_type": "markdown",
   "metadata": {},
   "source": [
    "Observations:\n",
    "    \n",
    "Using the Decision Trees Classifier, we tried all the parameter values for GridSearch, but it wasn't resulting in comparable CV scores to LogisticRegression, so we moved to better models, i.e., RandomForest and GradientBoosting."
   ]
  },
  {
   "cell_type": "markdown",
   "metadata": {},
   "source": [
    "### 2. Random Forest Classifier"
   ]
  },
  {
   "cell_type": "markdown",
   "metadata": {},
   "source": [
    "We tune our random forest classifier by varying the following hyper-parameters:\n",
    "* N-estimators\n",
    "* Max Depth\n",
    "* Max Features\n",
    "* Criterion"
   ]
  },
  {
   "cell_type": "markdown",
   "metadata": {},
   "source": [
    "** Tuning Level 1 **"
   ]
  },
  {
   "cell_type": "code",
   "execution_count": 47,
   "metadata": {
    "collapsed": true
   },
   "outputs": [],
   "source": [
    "rf = RandomForestClassifier(warm_start=True)\n",
    "params = {'randomforestclassifier__n_estimators' : range(10,100,10), \n",
    "          'randomforestclassifier__max_depth' : range(3,15,2)}\n",
    "pipe = make_pipeline(rf)\n",
    "grid = GridSearchCV(pipe, param_grid = params, scoring='roc_auc', n_jobs=-1,iid=False, cv=5)\n",
    "grid.fit(data_dummies_df, subscribed)\n",
    "print(grid.best_score_)"
   ]
  },
  {
   "cell_type": "markdown",
   "metadata": {},
   "source": [
    "** Tuning Level 2 **"
   ]
  },
  {
   "cell_type": "code",
   "execution_count": 48,
   "metadata": {
    "collapsed": true
   },
   "outputs": [],
   "source": [
    "rf = RandomForestClassifier(warm_start=True, n_estimators=80, max_depth=9)\n",
    "params = {'randomforestclassifier__max_features' : range(7, 53, 9),\n",
    "          'randomforestclassifier__criterion' : ['gini', 'entropy']}\n",
    "pipe = make_pipeline(rf)\n",
    "grid = GridSearchCV(pipe,param_grid = params, scoring='roc_auc', n_jobs=-1, iid=False, cv=5)\n",
    "grid.fit(data_dummies_df, subscribed)\n",
    "print(grid.best_score_)"
   ]
  },
  {
   "cell_type": "markdown",
   "metadata": {},
   "source": [
    "** Final Model based on learned Tuned Parameters **"
   ]
  },
  {
   "cell_type": "code",
   "execution_count": 49,
   "metadata": {},
   "outputs": [
    {
     "name": "stdout",
     "output_type": "stream",
     "text": [
      "0.798401803402\n"
     ]
    }
   ],
   "source": [
    "rf = RandomForestClassifier(warm_start=True, n_estimators=80,\n",
    "                            max_depth=9,\n",
    "                            max_features = 16, \n",
    "                            criterion = 'entropy')\n",
    "params = {}\n",
    "pipe = make_pipeline(rf)\n",
    "grid = GridSearchCV(pipe, param_grid = params, scoring='roc_auc', n_jobs=-1,iid=False, cv=5)\n",
    "grid.fit(data_dummies_df, subscribed)\n",
    "print(grid.best_score_)"
   ]
  },
  {
   "cell_type": "markdown",
   "metadata": {},
   "source": [
    "** Observations: **\n",
    "\n",
    "All the parameters were tuned for the Random Forest, but here we are showing just two levels of parameter tuning for brevity. \n",
    "\n",
    "Finally we obtain a best **cross-val score of 79.79%**. As this cross val scores are better than what we obtain for ModelSet1, the Random Forests are good candidates for creating ensembles later."
   ]
  },
  {
   "cell_type": "markdown",
   "metadata": {},
   "source": [
    "### 3. Gradient Boosting Classifier "
   ]
  },
  {
   "cell_type": "markdown",
   "metadata": {},
   "source": [
    "We tune our gradient boosting classifier by varying the following variables:\n",
    "* N-estimators\n",
    "* learning rate\n",
    "* max depth\n",
    "\n",
    "We obtain N-estimators = 80, learning_rate = 0.1, min_samples_split = 1000 and Max_depth = 5"
   ]
  },
  {
   "cell_type": "code",
   "execution_count": 50,
   "metadata": {
    "collapsed": true
   },
   "outputs": [],
   "source": [
    "param_test = {}\n",
    "pipe = make_pipeline(GradientBoostingClassifier(learning_rate=0.1, max_depth=5, n_estimators=80, \n",
    "                                                 random_state=10, min_samples_split = 1000))\n",
    "grid = GridSearchCV(pipe, param_grid = param_test, scoring='roc_auc', n_jobs=-1, iid=True, cv=5)\n",
    "grid.fit(data_dummies_df, subscribed)"
   ]
  },
  {
   "cell_type": "code",
   "execution_count": 51,
   "metadata": {
    "collapsed": true
   },
   "outputs": [],
   "source": [
    "if grid.best_score_ > 0.79:\n",
    "    assert True"
   ]
  },
  {
   "cell_type": "markdown",
   "metadata": {},
   "source": [
    "** Observations: **\n",
    "    \n",
    "All the parameters were tuned for the Gradient Boosting Classifier, but as it takes a lot of time to tune the Gradient Boosting Model, we are just showing results for the best tuned model here.\n",
    "\n",
    "Finally we obtain a best **cross-val score of 79.6%**. As this cross val scores are better than what we obtain for ModelSet1, the Gradient Boosting Methods are good candidates for creating ensembles later."
   ]
  },
  {
   "cell_type": "markdown",
   "metadata": {},
   "source": [
    "### 4. Xgboost"
   ]
  },
  {
   "cell_type": "markdown",
   "metadata": {},
   "source": [
    "We also used XG boost classifier. Since we cannot pip-install XGboost, we fail to run it on Travis therefore we comment our code on XGboost. We have uploaded our output on the kaggle competition."
   ]
  },
  {
   "cell_type": "code",
   "execution_count": 52,
   "metadata": {
    "collapsed": true
   },
   "outputs": [],
   "source": [
    "n_estimators = [50]\n",
    "max_depth = [5]\n",
    "learning_rate = [0.1]\n",
    "subsample = [1.0]\n",
    "colsample_bytree = [0.7]\n",
    "colsample_bylevel = [0.6]\n",
    "gamma = [0.1, 0.2, 0.3, 0.4, 0.5, 0.6, 0.7, 0.8, 0.9, 1.1]\n",
    "param_grid = dict(xgbclassifier__n_estimators=n_estimators, \n",
    "                  xgbclassifier__max_depth=max_depth, \n",
    "                  xgbclassifier__learning_rate=learning_rate, \n",
    "                  xgbclassifier__subsample=subsample, \n",
    "                  xgbclassifier__colsample_bytree=colsample_bytree, \n",
    "                  xgbclassifier__colsample_bylevel=colsample_bylevel,\n",
    "                  xgbclassifier__gamma=gamma\n",
    "                 )\n",
    "#kfold = StratifiedKFold(n_splits=5, shuffle=True) \n",
    "pipe = make_pipeline(StandardScaler(), XGBClassifier())\n",
    "grid = GridSearchCV(pipe, param_grid, scoring=\"roc_auc\", n_jobs=-1, cv=10)\n",
    "grid.fit(data_dummies_df, subscribed)"
   ]
  },
  {
   "cell_type": "code",
   "execution_count": 53,
   "metadata": {
    "collapsed": true
   },
   "outputs": [],
   "source": [
    "grid.best_params_"
   ]
  },
  {
   "cell_type": "code",
   "execution_count": 54,
   "metadata": {
    "collapsed": true
   },
   "outputs": [],
   "source": [
    "grid.best_score_"
   ]
  },
  {
   "cell_type": "markdown",
   "metadata": {},
   "source": [
    "** Observations: **\n",
    "\n",
    "All the parameters were tuned for the XGBoost Classifier. The good aspect of using XGBoost is that it is way faster to train as compared to Gradient Boosting, and with regularization helps in learning a better model.\n",
    "\n",
    "Finally we obtain a best **cross-val score of 79.8%**. As this cross val scores are better than what we obtain for ModelSet1, the XGBoost Methods are good candidates for creating ensembles later."
   ]
  },
  {
   "cell_type": "markdown",
   "metadata": {},
   "source": [
    "# Step4 - Ensemble Methods\n",
    "\n",
    "The aim here was to try poor man's stacking and other ensemble techniques as well."
   ]
  },
  {
   "cell_type": "markdown",
   "metadata": {},
   "source": [
    "### 1. Simple Ensemble: Voting Classifier, Poor-man's Stacking\n",
    "* Logistic Regression CV\n",
    "* Random Forest with best hyper-parameters, N-estimator = 80, max_depth = 9, max features = 16, criterion = entropy\n",
    "* Gradient Boosting Classifier with best hyper-parameters, N-estimators = 200, max_depth = 5, min_samples_split = 1000"
   ]
  },
  {
   "cell_type": "code",
   "execution_count": 55,
   "metadata": {
    "collapsed": true
   },
   "outputs": [],
   "source": [
    "clf1 = make_pipeline(StandardScaler(),LogisticRegressionCV(random_state=10))\n",
    "clf2 = RandomForestClassifier(warm_start=True,n_estimators=80,max_depth=9,max_features = 16, criterion = 'entropy', random_state=10)\n",
    "clf3 = GradientBoostingClassifier(learning_rate=0.1,max_depth=5, n_estimators=200, random_state=10,min_samples_split = 1000)\n",
    "\n",
    "voting = VotingClassifier([('logreg', clf1),('RandomForest', clf2),('GradientBoost',clf3)], voting='soft')\n",
    "                     \n",
    "print(np.mean(cross_val_score(voting, data_dummies_df, subscribed,scoring = 'roc_auc', cv=5)))"
   ]
  },
  {
   "cell_type": "code",
   "execution_count": 56,
   "metadata": {
    "collapsed": true
   },
   "outputs": [],
   "source": [
    "## using only voting.fit is POOR MANS STACKING AND USING CROSS_VAL_PREDICT IS ACTUAL STACKING\n",
    "\n",
    "voting.fit(data_dummies_df,subscribed)\n",
    "create_submission_output(output_df, voting)"
   ]
  },
  {
   "cell_type": "markdown",
   "metadata": {},
   "source": [
    "** After Voting Classifier, we used Stacking on the output probability from the Voting Classifier and build a LogisticRegression model on those probabilities to obtain the final probability **"
   ]
  },
  {
   "cell_type": "code",
   "execution_count": 57,
   "metadata": {
    "collapsed": true
   },
   "outputs": [],
   "source": [
    "from sklearn.preprocessing import FunctionTransformer\n",
    "\n",
    "reshaper = FunctionTransformer(lambda X_: np.rollaxis(X_, 1).reshape(-1, 6)[:, 1::2], validate=False)\n",
    "stacking = make_pipeline(voting, reshaper,\n",
    "                         LogisticRegressionCV())\n",
    "print(np.mean(cross_val_score(stacking,data_dummies_df, subscribed, scoring = 'roc_auc',cv=5)))"
   ]
  },
  {
   "cell_type": "code",
   "execution_count": 58,
   "metadata": {
    "collapsed": true
   },
   "outputs": [],
   "source": [
    "stacking.fit(data_df_dummies, subscribed)\n",
    "create_submission_output(output_df, stacking)"
   ]
  },
  {
   "cell_type": "markdown",
   "metadata": {},
   "source": [
    "** The second stage stacking was also tried using the RandomForestClassifier, GradientBoosting and LinearRegression classifiers, but as it takes a lot of time to build, we have shown results for LogisticRegression here. ** Also, it did not help in any accuracy changes."
   ]
  },
  {
   "cell_type": "markdown",
   "metadata": {
    "collapsed": true
   },
   "source": [
    "** Observations: **\n",
    "\n",
    "We are able to achieve the best CV outputs using a Voting Classifier with all the best tuned models from ModelSet1 and ModelSet2."
   ]
  },
  {
   "cell_type": "markdown",
   "metadata": {},
   "source": [
    "### 2. Weighted Ensemble:\n",
    "\n",
    "* We use a weighted ensemble model by giving more weightage to the Random Forest Classifier followed by the Gradient Boosting Classifier and Logistic Regression classifier."
   ]
  },
  {
   "cell_type": "code",
   "execution_count": 59,
   "metadata": {},
   "outputs": [
    {
     "name": "stdout",
     "output_type": "stream",
     "text": [
      "0.798568652313\n"
     ]
    }
   ],
   "source": [
    "clf1 = make_pipeline(StandardScaler(),LogisticRegressionCV(random_state=10))\n",
    "clf2 = make_pipeline(StandardScaler(), RandomForestClassifier(warm_start=True,n_estimators=80, max_depth=9, max_features = 16, criterion = 'entropy', random_state=10))\n",
    "clf3 = make_pipeline(StandardScaler(), GradientBoostingClassifier(learning_rate=0.1,max_depth=5, n_estimators=80, random_state=10, min_samples_split = 1000))\n",
    "\n",
    "voting = VotingClassifier([('logreg', clf1), ('RandomForest', clf2), ('GradientBoost',clf3)],weights = [2, 5, 3], voting='soft')\n",
    "                     \n",
    "output = np.mean(cross_val_score(voting, data_dummies_df, subscribed, scoring = 'roc_auc', cv=5))\n",
    "print(output)"
   ]
  },
  {
   "cell_type": "code",
   "execution_count": 60,
   "metadata": {
    "collapsed": true
   },
   "outputs": [],
   "source": [
    "voting.fit(data_dummies_df,subscribed)\n",
    "create_submission_output(output_df, voting)"
   ]
  },
  {
   "cell_type": "markdown",
   "metadata": {},
   "source": [
    "** Observations: **\n",
    "\n",
    "We are able to achieve the best CV outputs using a Voting Classifier with all the best tuned models from ModelSet1 and ModelSet2. It performed well when we were able to provide weights to separate classifiers for their outputs."
   ]
  },
  {
   "cell_type": "markdown",
   "metadata": {},
   "source": [
    "### 3. Ensemble with XGboost"
   ]
  },
  {
   "cell_type": "code",
   "execution_count": 61,
   "metadata": {
    "collapsed": true
   },
   "outputs": [],
   "source": [
    "clf1 = make_pipeline(StandardScaler(), XGBClassifier(n_estimators=50, max_depth=5, learning_rate=0.1, subsample=1.0, \n",
    "                                                     colsample_bylevel=0.6, colsample_bytree=0.7, gamma = 1.11))\n",
    "clf2 = make_pipeline(StandardScaler(), RandomForestClassifier(warm_start=True,n_estimators=80,max_depth=9,max_features = 16, criterion = 'entropy'))\n",
    "clf3 = make_pipeline(StandardScaler(), GradientBoostingClassifier(learning_rate=0.1,max_depth=5, n_estimators=200, random_state=10,min_samples_split = 1000))\n",
    "\n",
    "voting = VotingClassifier([('xgb', clf1), ('RandomForest', clf2), ('GradientBoost',clf3)], voting='soft', weights = [1.5, 4, 3])\n",
    "                     \n",
    "print(np.mean(cross_val_score(voting,data_dummies_df,subscribed,scoring = 'roc_auc',cv=10)))"
   ]
  },
  {
   "cell_type": "code",
   "execution_count": 62,
   "metadata": {
    "collapsed": true
   },
   "outputs": [],
   "source": [
    "voting.fit(data_dummies_df,subscribed)\n",
    "create_submission_output(output_df, voting)"
   ]
  },
  {
   "cell_type": "markdown",
   "metadata": {},
   "source": [
    "**Observation:**\n",
    "\n",
    "The cross val roc_auc score does not show any improvement by replacing the Logistic Classifier with XGboost. Although we get a similar roc_auc score of close to 0.786."
   ]
  },
  {
   "cell_type": "markdown",
   "metadata": {},
   "source": [
    "### 4. Ensemble with XGBoost, inspired by Owen Zhang"
   ]
  },
  {
   "cell_type": "code",
   "execution_count": 63,
   "metadata": {
    "collapsed": true
   },
   "outputs": [],
   "source": [
    "clf1 = XGBClassifier(n_estimators=50, max_depth=5, learning_rate=0.1, subsample=1.0, colsample_bytree=0.7, colsample_bylevel=0.6, gamma = 1.11, seed=0)\n",
    "clf2 = XGBClassifier(n_estimators=50, max_depth=5, learning_rate=0.1, subsample=1.0, colsample_bytree=0.7, colsample_bylevel=0.6, gamma = 1.11, seed=1)\n",
    "clf3 = XGBClassifier(n_estimators=50, max_depth=5, learning_rate=0.1, subsample=1.0, colsample_bytree=0.7, colsample_bylevel=0.6, gamma = 1.11, seed=2)\n",
    "\n",
    "voting = VotingClassifier([('xgb1', clf1),('xgb2', clf2),('xgb3',clf3)], voting='soft')\n",
    "\n",
    "print(np.mean(cross_val_score(voting, data_dummies_df, subscribed, scoring = 'roc_auc', cv=5)))"
   ]
  },
  {
   "cell_type": "code",
   "execution_count": 64,
   "metadata": {
    "collapsed": true
   },
   "outputs": [],
   "source": [
    "voting.fit(data_dummies_df,subscribed)\n",
    "create_submission_output(output_df, voting)"
   ]
  },
  {
   "cell_type": "markdown",
   "metadata": {},
   "source": [
    "**Observation**\n",
    "\n",
    "We tried an ensemble of 3 XGboost classifiers with different random states. This was inspired by Owen Zhang technique of acing the kaggle leader-board. We were not able to observe any significant improvement in cross val score over our simple voting classifier."
   ]
  },
  {
   "cell_type": "markdown",
   "metadata": {},
   "source": [
    "# Step 5 : Resampling"
   ]
  },
  {
   "cell_type": "markdown",
   "metadata": {},
   "source": [
    "** In this section we tried Resampling with the best parameters learnt for LogisticRegression and RandomForestClassifier, as they run faster **"
   ]
  },
  {
   "cell_type": "markdown",
   "metadata": {},
   "source": [
    "### 1. Undersampling with Logistic Regression : RandomUnderSampler"
   ]
  },
  {
   "cell_type": "code",
   "execution_count": 65,
   "metadata": {
    "collapsed": true
   },
   "outputs": [],
   "source": [
    "undersample_pipe = make_imb_pipeline(RandomUnderSampler(), LogisticRegressionCV())\n",
    "scores = cross_val_score(undersample_pipe, data_dummies_df, subscribed, cv=10, scoring='roc_auc')\n",
    "print(np.mean(scores))"
   ]
  },
  {
   "cell_type": "code",
   "execution_count": 66,
   "metadata": {
    "collapsed": true
   },
   "outputs": [],
   "source": [
    "undersample_pipe.fit(data_dummies_df,subscribed)\n",
    "create_submission_output(output_df, undersample_pipe)"
   ]
  },
  {
   "cell_type": "markdown",
   "metadata": {},
   "source": [
    "### 2. Oversampling with Logistic Regression : RandomOverSampler"
   ]
  },
  {
   "cell_type": "code",
   "execution_count": 67,
   "metadata": {
    "collapsed": true
   },
   "outputs": [],
   "source": [
    "oversample_pipe = make_imb_pipeline(RandomOverSampler(), LogisticRegressionCV())\n",
    "scores = cross_val_score(oversample_pipe, data_dummies_df, subscribed, cv=10, scoring='roc_auc')\n",
    "print(np.mean(scores))"
   ]
  },
  {
   "cell_type": "code",
   "execution_count": 68,
   "metadata": {
    "collapsed": true
   },
   "outputs": [],
   "source": [
    "oversample_pipe.fit(data_dummies_df,subscribed)\n",
    "create_submission_output(output_df, oversample_pipe)"
   ]
  },
  {
   "cell_type": "markdown",
   "metadata": {},
   "source": [
    "**Observations:**\n",
    "\n",
    "Undersampling and Oversampling give similar roc_auc scores close to 0.787 using Logistic Regression classifier"
   ]
  },
  {
   "cell_type": "markdown",
   "metadata": {},
   "source": [
    "### 3. Undersampling with Random Forest Classifier : RandomUnderSampler"
   ]
  },
  {
   "cell_type": "code",
   "execution_count": 69,
   "metadata": {
    "collapsed": true
   },
   "outputs": [],
   "source": [
    "undersample_pipe_rf = make_imb_pipeline(RandomUnderSampler(), \n",
    "                                        RandomForestClassifier(warm_start=True,\n",
    "                                                               n_estimators=80,\n",
    "                                                               max_depth=9,\n",
    "                                                               max_features = 16, \n",
    "                                                               criterion = 'entropy'))\n",
    "scores = cross_val_score(undersample_pipe_rf, data_dummies_df, subscribed, cv=10, scoring='roc_auc')\n",
    "print(np.mean(scores))"
   ]
  },
  {
   "cell_type": "code",
   "execution_count": 70,
   "metadata": {
    "collapsed": true
   },
   "outputs": [],
   "source": [
    "undersample_pipe_rf.fit(data_dummies_df, subscribed)\n",
    "create_submission_output(output_df, undersample_pipe_rf)"
   ]
  },
  {
   "cell_type": "markdown",
   "metadata": {},
   "source": [
    "### 4. Oversampling with Random Forest Classifier : RandomOverSampler"
   ]
  },
  {
   "cell_type": "code",
   "execution_count": 71,
   "metadata": {
    "collapsed": true
   },
   "outputs": [],
   "source": [
    "oversample_pipe_rf = make_imb_pipeline(RandomOverSampler(), RandomForestClassifier(warm_start=True,\n",
    "                                                                                   n_estimators=80,\n",
    "                                                                                   max_depth=9,\n",
    "                                                                                   max_features = 16, \n",
    "                                                                                   criterion = 'entropy'))\n",
    "scores = cross_val_score(oversample_pipe_rf, data_dummies_df, subscribed, cv=10, scoring='roc_auc')\n",
    "print(np.mean(scores))"
   ]
  },
  {
   "cell_type": "code",
   "execution_count": 72,
   "metadata": {
    "collapsed": true
   },
   "outputs": [],
   "source": [
    "oversample_pipe_rf.fit(data_dummies_df, subscribed)\n",
    "create_submission_output(output_df,oversample_pipe_rf)"
   ]
  },
  {
   "cell_type": "markdown",
   "metadata": {},
   "source": [
    "Random Over Sampler with our tuned Random Forest Classifier gives a mean roc_auc score of **0.797**. Again we do not observe any significant improvement by resampling the data."
   ]
  },
  {
   "cell_type": "markdown",
   "metadata": {},
   "source": [
    "### 5. Balancing Class Weights for Logistic Regression"
   ]
  },
  {
   "cell_type": "code",
   "execution_count": 73,
   "metadata": {
    "collapsed": true
   },
   "outputs": [],
   "source": [
    "scores = cross_val_score(LogisticRegression(class_weight='balanced'),\n",
    "                         data_dummies_df, subscribed, cv=10, scoring='roc_auc')\n",
    "print(scores.mean())"
   ]
  },
  {
   "cell_type": "markdown",
   "metadata": {},
   "source": [
    "### 6. Balancing Class Weights for Random Forest Classifier"
   ]
  },
  {
   "cell_type": "code",
   "execution_count": 74,
   "metadata": {
    "collapsed": true
   },
   "outputs": [],
   "source": [
    "from sklearn.ensemble import RandomForestClassifier\n",
    "scores = cross_val_score(RandomForestClassifier(n_estimators=80,\n",
    "                                                max_depth=9,\n",
    "                                                max_features = 16, \n",
    "                                                criterion = 'entropy',\n",
    "                                                class_weight='balanced'),\n",
    "                         data_dummies_df, subscribed, cv=10, scoring='roc_auc')\n",
    "print(np.mean(scores))"
   ]
  },
  {
   "cell_type": "markdown",
   "metadata": {},
   "source": [
    "## Resampled Ensembles"
   ]
  },
  {
   "cell_type": "markdown",
   "metadata": {},
   "source": [
    "### 1. Trees: RF\n",
    "\n",
    "In this model we create multiple undersampled random-forests classifiers with different random state for undersampling. Finally we build a voting classifier for all these rf classifiers."
   ]
  },
  {
   "cell_type": "code",
   "execution_count": 75,
   "metadata": {
    "collapsed": true
   },
   "outputs": [],
   "source": [
    "def make_resample_tree(random_state=0):\n",
    "    rf = RandomForestClassifier(warm_start=True,\n",
    "                                n_estimators=80,\n",
    "                                max_depth=9,\n",
    "                                max_features = 16, \n",
    "                                criterion = 'entropy')\n",
    "    tree = make_imb_pipeline(RandomUnderSampler(random_state=random_state, replacement=True),\n",
    "                             rf)\n",
    "    return \"tree_i\".format(random_state), tree\n",
    "classifiers = [make_resample_tree(i) for i in range(100)]\n",
    "resampled_rf = VotingClassifier(classifiers, voting='soft')"
   ]
  },
  {
   "cell_type": "code",
   "execution_count": 76,
   "metadata": {
    "collapsed": true
   },
   "outputs": [],
   "source": [
    "scores = cross_val_score(resampled_rf, data_dummies_df, subscribed, cv=10, scoring='roc_auc')\n",
    "print(np.mean(scores))"
   ]
  },
  {
   "cell_type": "markdown",
   "metadata": {},
   "source": [
    "### 2. Ensembles using RandomUnderSampling"
   ]
  },
  {
   "cell_type": "code",
   "execution_count": 77,
   "metadata": {
    "collapsed": true
   },
   "outputs": [],
   "source": [
    "from sklearn.base import clone\n",
    "\n",
    "def make_resampled_ensemble(estimator, n_estimators=100):\n",
    "    estimators = []\n",
    "    for i in range(n_estimators):\n",
    "        est = clone(estimator)\n",
    "        if hasattr(est, \"random_state\"):\n",
    "            est.random_state = i\n",
    "        pipe = make_imb_pipeline(RandomUnderSampler(random_state=i, replacement=True),\n",
    "                                 est)\n",
    "        estimators.append((\"est_i\".format(i), pipe))\n",
    "    return VotingClassifier(estimators, voting=\"soft\")"
   ]
  },
  {
   "cell_type": "markdown",
   "metadata": {},
   "source": [
    "** For RandomForestClassifier ** (takes long time to run, so commented for travis)"
   ]
  },
  {
   "cell_type": "code",
   "execution_count": 78,
   "metadata": {
    "collapsed": true
   },
   "outputs": [],
   "source": [
    "rf = RandomForestClassifier(warm_start=True,\n",
    "                            n_estimators=80,\n",
    "                            max_depth=9,\n",
    "                            max_features = 16, \n",
    "                            criterion = 'entropy')\n",
    "\n",
    "resampled_tree_test = make_resampled_ensemble(rf)\n",
    "\n",
    "scores = cross_val_score(resampled_tree_test, data_dummies_df, subscribed, cv=10, scoring='roc_auc')\n",
    "print(np.mean(scores))"
   ]
  },
  {
   "cell_type": "markdown",
   "metadata": {},
   "source": [
    "** For LogisticRegression ** (takes long time to run, so commented for travis)"
   ]
  },
  {
   "cell_type": "code",
   "execution_count": 79,
   "metadata": {
    "collapsed": true
   },
   "outputs": [],
   "source": [
    "resampled_lr = make_resampled_ensemble(LogisticRegressionCV())\n",
    "\n",
    "scores = cross_val_score(resampled_lr, data_dummies_df, subscribed, cv=10, scoring='roc_auc')\n",
    "print(np.mean(scores))"
   ]
  },
  {
   "cell_type": "markdown",
   "metadata": {},
   "source": [
    "## Undersampling using Edited Nearest Neigbors (takes long time to run, so commented for travis)"
   ]
  },
  {
   "cell_type": "code",
   "execution_count": 80,
   "metadata": {
    "collapsed": true
   },
   "outputs": [],
   "source": [
    "enn_pipe = make_imb_pipeline(EditedNearestNeighbours(n_neighbors=5),\n",
    "                             LogisticRegressionCV())\n",
    "scores = cross_val_score(enn_pipe, data_dummies_df, subscribed, cv=10, scoring='roc_auc')\n",
    "print(np.mean(scores))"
   ]
  },
  {
   "cell_type": "code",
   "execution_count": 81,
   "metadata": {
    "collapsed": true
   },
   "outputs": [],
   "source": [
    "rf = RandomForestClassifier(warm_start=True,\n",
    "                            n_estimators=80,\n",
    "                            max_depth=9,\n",
    "                            max_features = 16, \n",
    "                            criterion = 'entropy')\n",
    "\n",
    "enn_pipe_rf = make_imb_pipeline(EditedNearestNeighbours(n_neighbors=5),\n",
    "                                rf)\n",
    "scores = cross_val_score(enn_pipe_rf, data_dummies_df, subscribed, cv=10, scoring='roc_auc')\n",
    "print(np.mean(scores))"
   ]
  },
  {
   "cell_type": "markdown",
   "metadata": {},
   "source": [
    "Undersampling using both EditedNearestNeighbours and CondensedNearestNeighbours were tried in conjunction with both LogisticRegression and RandomForestClassifier. CondensedNearestNeigbours takes a long time to run and does not help in improving the CV score much, so not used and shown here."
   ]
  },
  {
   "cell_type": "markdown",
   "metadata": {},
   "source": [
    "## Resampling using SMOTE"
   ]
  },
  {
   "cell_type": "code",
   "execution_count": 82,
   "metadata": {
    "collapsed": true
   },
   "outputs": [],
   "source": [
    "from imblearn.over_sampling import SMOTE"
   ]
  },
  {
   "cell_type": "markdown",
   "metadata": {},
   "source": [
    "** LogisticRegression**"
   ]
  },
  {
   "cell_type": "code",
   "execution_count": 83,
   "metadata": {
    "collapsed": true
   },
   "outputs": [],
   "source": [
    "smote_pipe = make_imb_pipeline(SMOTE(), LogisticRegressionCV())\n",
    "scores = cross_val_score(smote_pipe, data_dummies_df, subscribed, cv=10, scoring='roc_auc')\n",
    "print(np.mean(scores))"
   ]
  },
  {
   "cell_type": "markdown",
   "metadata": {},
   "source": [
    "** RandomForestClassifier ** "
   ]
  },
  {
   "cell_type": "code",
   "execution_count": 84,
   "metadata": {
    "collapsed": true
   },
   "outputs": [],
   "source": [
    "rf = RandomForestClassifier(warm_start=True,n_estimators=80,max_depth=9,max_features = 16, criterion = 'entropy')\n",
    "smote_pipe_rf = make_imb_pipeline(SMOTE(), rf)\n",
    "scores = cross_val_score(smote_pipe_rf, data_dummies_df, subscribed, cv=10, scoring='roc_auc')\n",
    "print(np.mean(scores))"
   ]
  },
  {
   "cell_type": "code",
   "execution_count": 85,
   "metadata": {
    "collapsed": true
   },
   "outputs": [],
   "source": [
    "param_grid = {'smote__k_neighbors': [3, 5, 7, 9, 11, 15, 31]}\n",
    "search = GridSearchCV(smote_pipe_rf, param_grid, cv=10, scoring=\"roc_auc\")\n",
    "search.fit(data_dummies_df, subscribed)"
   ]
  },
  {
   "cell_type": "code",
   "execution_count": 86,
   "metadata": {
    "collapsed": true
   },
   "outputs": [],
   "source": [
    "search.best_params_"
   ]
  },
  {
   "cell_type": "markdown",
   "metadata": {},
   "source": [
    "** From best\\_params\\_, we obtain the best value for k_neighbours as 7, which are used later**"
   ]
  },
  {
   "cell_type": "markdown",
   "metadata": {},
   "source": [
    "** SMOTEENN and SMOTETOMEK tried, but code commented due to travis **"
   ]
  },
  {
   "cell_type": "code",
   "execution_count": 87,
   "metadata": {
    "collapsed": true
   },
   "outputs": [],
   "source": [
    "rf = RandomForestClassifier(warm_start=True,n_estimators=80,max_depth=9,max_features = 16, criterion = 'entropy')\n",
    "smote_pipe_rf = make_imb_pipeline(SMOTE(k_neighbors=7), rf)\n",
    "scores = cross_val_score(smote_pipe_rf, data_dummies_df, subscribed, cv=10, scoring='roc_auc')\n",
    "print(np.mean(scores))"
   ]
  },
  {
   "cell_type": "code",
   "execution_count": 88,
   "metadata": {
    "collapsed": true
   },
   "outputs": [],
   "source": [
    "from imblearn.combine import SMOTEENN, SMOTETomek\n",
    "rf = RandomForestClassifier(warm_start=True,n_estimators=80,max_depth=9,max_features = 16, criterion = 'entropy')\n",
    "smoteenn_pipe_rf = make_imb_pipeline(SMOTEENN(smote=SMOTE(k_neighbors=7)), rf)\n",
    "scores = cross_val_score(smoteenn_pipe_rf, data_dummies_df, subscribed, cv=10, scoring='roc_auc')\n",
    "print(np.mean(scores))"
   ]
  },
  {
   "cell_type": "markdown",
   "metadata": {},
   "source": [
    "#### The Under and Over Sampling techniques are applied in conjunction with Random Forest Classifier (Best Tree Classifier) "
   ]
  },
  {
   "cell_type": "markdown",
   "metadata": {},
   "source": [
    "** The resampling techniques get us CV values near 0.791-0.794, but still are not able to perform as well as Voting Classifiers or classifiers built in ModelSet1 and ModelSet2. The main reason for this can be the skewness of classes and the chosen undersample not being a good representative of all the variation that exists in that class, whereas for the other class, it always has all the variation captured. Similar observations can be made for the Oversampling case.**"
   ]
  },
  {
   "cell_type": "markdown",
   "metadata": {},
   "source": [
    "** We are using the weighted ensemble method for final results, whose CV value is stored in output :: **"
   ]
  },
  {
   "cell_type": "code",
   "execution_count": 89,
   "metadata": {
    "collapsed": true
   },
   "outputs": [],
   "source": [
    "if output > 0.798:\n",
    "    #print(True)\n",
    "    assert True"
   ]
  },
  {
   "cell_type": "markdown",
   "metadata": {},
   "source": [
    "---"
   ]
  }
 ],
 "metadata": {
  "anaconda-cloud": {},
  "kernelspec": {
   "display_name": "Python 3",
   "language": "python",
   "name": "python3"
  },
  "language_info": {
   "codemirror_mode": {
    "name": "ipython",
    "version": 3
   },
   "file_extension": ".py",
   "mimetype": "text/x-python",
   "name": "python",
   "nbconvert_exporter": "python",
   "pygments_lexer": "ipython3",
   "version": "3.6.2"
  }
 },
 "nbformat": 4,
 "nbformat_minor": 2
}
